{
 "cells": [
  {
   "cell_type": "code",
   "execution_count": 1,
   "id": "86f17e1b",
   "metadata": {
    "_cell_guid": "b1076dfc-b9ad-4769-8c92-a6c4dae69d19",
    "_uuid": "8f2839f25d086af736a60e9eeb907d3b93b6e0e5",
    "execution": {
     "iopub.execute_input": "2022-04-19T22:54:44.854478Z",
     "iopub.status.busy": "2022-04-19T22:54:44.852513Z",
     "iopub.status.idle": "2022-04-19T22:54:44.867543Z",
     "shell.execute_reply": "2022-04-19T22:54:44.868155Z",
     "shell.execute_reply.started": "2022-04-19T22:26:13.156887Z"
    },
    "papermill": {
     "duration": 0.063038,
     "end_time": "2022-04-19T22:54:44.868640",
     "exception": false,
     "start_time": "2022-04-19T22:54:44.805602",
     "status": "completed"
    },
    "tags": []
   },
   "outputs": [
    {
     "name": "stdout",
     "output_type": "stream",
     "text": [
      "/kaggle/input/spaceship-titanic/sample_submission.csv\n",
      "/kaggle/input/spaceship-titanic/train.csv\n",
      "/kaggle/input/spaceship-titanic/test.csv\n"
     ]
    }
   ],
   "source": [
    "# This Python 3 environment comes with many helpful analytics libraries installed\n",
    "# It is defined by the kaggle/python Docker image: https://github.com/kaggle/docker-python\n",
    "# For example, here's several helpful packages to load\n",
    "\n",
    "import numpy as np # linear algebra\n",
    "import pandas as pd # data processing, CSV file I/O (e.g. pd.read_csv)\n",
    "\n",
    "# Input data files are available in the read-only \"../input/\" directory\n",
    "# For example, running this (by clicking run or pressing Shift+Enter) will list all files under the input directory\n",
    "\n",
    "import os\n",
    "for dirname, _, filenames in os.walk('/kaggle/input'):\n",
    "    for filename in filenames:\n",
    "        print(os.path.join(dirname, filename))\n",
    "\n",
    "# You can write up to 20GB to the current directory (/kaggle/working/) that gets preserved as output when you create a version using \"Save & Run All\" \n",
    "# You can also write temporary files to /kaggle/temp/, but they won't be saved outside of the current session"
   ]
  },
  {
   "cell_type": "markdown",
   "id": "a2a5b321",
   "metadata": {
    "papermill": {
     "duration": 0.040763,
     "end_time": "2022-04-19T22:54:44.951839",
     "exception": false,
     "start_time": "2022-04-19T22:54:44.911076",
     "status": "completed"
    },
    "tags": []
   },
   "source": [
    "# Introduction\n",
    "\n",
    "Per Kaggle Data:\n",
    "\n",
    "`train.csv` - Personal records for about two-thirds (~8700) of the passengers, to be used as training data.\n",
    "- `PassengerId` - A unique Id for each passenger. Each Id takes the form gggg_pp where gggg indicates a group the passenger is travelling with and pp is their number within the group. People in a group are often family members, but not always.\n",
    "- `HomePlanet` - The planet the passenger departed from, typically their planet of permanent residence.\n",
    "- `CryoSleep` - Indicates whether the passenger elected to be put into suspended animation for the duration of the voyage. Passengers in cryosleep are confined to their cabins.\n",
    "- `Cabin` - The cabin number where the passenger is staying. Takes the form deck/num/side, where side can be either P for Port or S for Starboard.\n",
    "- `Destination` - The planet the passenger will be debarking to.\n",
    "- `Age` - The age of the passenger.\n",
    "- `VIP` - Whether the passenger has paid for special VIP service during the voyage.\n",
    "- `RoomService`, `FoodCourt`, `ShoppingMall`, `Spa`, `VRDeck` - Amount the passenger has billed at each of the Spaceship Titanic's many luxury amenities.\n",
    "- `Name` - The first and last names of the passenger.\n",
    "- `Transported` - Whether the passenger was transported to another dimension. This is the target, the column you are trying to predict.\n",
    "\n",
    "`test.csv` - Personal records for the remaining one-third (~4300) of the passengers, to be used as test data. \n",
    "\n",
    "**Your task is to predict the value of Transported for the passengers in this set.** \n",
    "\n",
    "`sample_submission.csv` - A submission file in the correct format.\n",
    "- `PassengerId` - Id for each passenger in the test set.\n",
    "- `Transported` - The target. For each passenger, predict either True or False."
   ]
  },
  {
   "cell_type": "markdown",
   "id": "69a67c56",
   "metadata": {
    "papermill": {
     "duration": 0.04117,
     "end_time": "2022-04-19T22:54:45.034159",
     "exception": false,
     "start_time": "2022-04-19T22:54:44.992989",
     "status": "completed"
    },
    "tags": []
   },
   "source": [
    "# EDA"
   ]
  },
  {
   "cell_type": "code",
   "execution_count": 2,
   "id": "fe24b501",
   "metadata": {
    "execution": {
     "iopub.execute_input": "2022-04-19T22:54:45.123482Z",
     "iopub.status.busy": "2022-04-19T22:54:45.122536Z",
     "iopub.status.idle": "2022-04-19T22:54:46.142811Z",
     "shell.execute_reply": "2022-04-19T22:54:46.143581Z",
     "shell.execute_reply.started": "2022-04-19T22:26:13.249134Z"
    },
    "papermill": {
     "duration": 1.06577,
     "end_time": "2022-04-19T22:54:46.143768",
     "exception": false,
     "start_time": "2022-04-19T22:54:45.077998",
     "status": "completed"
    },
    "tags": []
   },
   "outputs": [],
   "source": [
    "import seaborn as sns\n",
    "import matplotlib.pyplot as plt\n",
    "sns.set_style('whitegrid')"
   ]
  },
  {
   "cell_type": "code",
   "execution_count": 3,
   "id": "73bb880a",
   "metadata": {
    "execution": {
     "iopub.execute_input": "2022-04-19T22:54:46.232805Z",
     "iopub.status.busy": "2022-04-19T22:54:46.232084Z",
     "iopub.status.idle": "2022-04-19T22:54:46.311007Z",
     "shell.execute_reply": "2022-04-19T22:54:46.310376Z",
     "shell.execute_reply.started": "2022-04-19T22:26:13.338791Z"
    },
    "papermill": {
     "duration": 0.123114,
     "end_time": "2022-04-19T22:54:46.311180",
     "exception": false,
     "start_time": "2022-04-19T22:54:46.188066",
     "status": "completed"
    },
    "tags": []
   },
   "outputs": [
    {
     "data": {
      "text/html": [
       "<div>\n",
       "<style scoped>\n",
       "    .dataframe tbody tr th:only-of-type {\n",
       "        vertical-align: middle;\n",
       "    }\n",
       "\n",
       "    .dataframe tbody tr th {\n",
       "        vertical-align: top;\n",
       "    }\n",
       "\n",
       "    .dataframe thead th {\n",
       "        text-align: right;\n",
       "    }\n",
       "</style>\n",
       "<table border=\"1\" class=\"dataframe\">\n",
       "  <thead>\n",
       "    <tr style=\"text-align: right;\">\n",
       "      <th></th>\n",
       "      <th>PassengerId</th>\n",
       "      <th>HomePlanet</th>\n",
       "      <th>CryoSleep</th>\n",
       "      <th>Cabin</th>\n",
       "      <th>Destination</th>\n",
       "      <th>Age</th>\n",
       "      <th>VIP</th>\n",
       "      <th>RoomService</th>\n",
       "      <th>FoodCourt</th>\n",
       "      <th>ShoppingMall</th>\n",
       "      <th>Spa</th>\n",
       "      <th>VRDeck</th>\n",
       "      <th>Name</th>\n",
       "      <th>Transported</th>\n",
       "    </tr>\n",
       "  </thead>\n",
       "  <tbody>\n",
       "    <tr>\n",
       "      <th>0</th>\n",
       "      <td>0001_01</td>\n",
       "      <td>Europa</td>\n",
       "      <td>False</td>\n",
       "      <td>B/0/P</td>\n",
       "      <td>TRAPPIST-1e</td>\n",
       "      <td>39.0</td>\n",
       "      <td>False</td>\n",
       "      <td>0.0</td>\n",
       "      <td>0.0</td>\n",
       "      <td>0.0</td>\n",
       "      <td>0.0</td>\n",
       "      <td>0.0</td>\n",
       "      <td>Maham Ofracculy</td>\n",
       "      <td>False</td>\n",
       "    </tr>\n",
       "    <tr>\n",
       "      <th>1</th>\n",
       "      <td>0002_01</td>\n",
       "      <td>Earth</td>\n",
       "      <td>False</td>\n",
       "      <td>F/0/S</td>\n",
       "      <td>TRAPPIST-1e</td>\n",
       "      <td>24.0</td>\n",
       "      <td>False</td>\n",
       "      <td>109.0</td>\n",
       "      <td>9.0</td>\n",
       "      <td>25.0</td>\n",
       "      <td>549.0</td>\n",
       "      <td>44.0</td>\n",
       "      <td>Juanna Vines</td>\n",
       "      <td>True</td>\n",
       "    </tr>\n",
       "    <tr>\n",
       "      <th>2</th>\n",
       "      <td>0003_01</td>\n",
       "      <td>Europa</td>\n",
       "      <td>False</td>\n",
       "      <td>A/0/S</td>\n",
       "      <td>TRAPPIST-1e</td>\n",
       "      <td>58.0</td>\n",
       "      <td>True</td>\n",
       "      <td>43.0</td>\n",
       "      <td>3576.0</td>\n",
       "      <td>0.0</td>\n",
       "      <td>6715.0</td>\n",
       "      <td>49.0</td>\n",
       "      <td>Altark Susent</td>\n",
       "      <td>False</td>\n",
       "    </tr>\n",
       "    <tr>\n",
       "      <th>3</th>\n",
       "      <td>0003_02</td>\n",
       "      <td>Europa</td>\n",
       "      <td>False</td>\n",
       "      <td>A/0/S</td>\n",
       "      <td>TRAPPIST-1e</td>\n",
       "      <td>33.0</td>\n",
       "      <td>False</td>\n",
       "      <td>0.0</td>\n",
       "      <td>1283.0</td>\n",
       "      <td>371.0</td>\n",
       "      <td>3329.0</td>\n",
       "      <td>193.0</td>\n",
       "      <td>Solam Susent</td>\n",
       "      <td>False</td>\n",
       "    </tr>\n",
       "    <tr>\n",
       "      <th>4</th>\n",
       "      <td>0004_01</td>\n",
       "      <td>Earth</td>\n",
       "      <td>False</td>\n",
       "      <td>F/1/S</td>\n",
       "      <td>TRAPPIST-1e</td>\n",
       "      <td>16.0</td>\n",
       "      <td>False</td>\n",
       "      <td>303.0</td>\n",
       "      <td>70.0</td>\n",
       "      <td>151.0</td>\n",
       "      <td>565.0</td>\n",
       "      <td>2.0</td>\n",
       "      <td>Willy Santantines</td>\n",
       "      <td>True</td>\n",
       "    </tr>\n",
       "  </tbody>\n",
       "</table>\n",
       "</div>"
      ],
      "text/plain": [
       "  PassengerId HomePlanet CryoSleep  Cabin  Destination   Age    VIP  \\\n",
       "0     0001_01     Europa     False  B/0/P  TRAPPIST-1e  39.0  False   \n",
       "1     0002_01      Earth     False  F/0/S  TRAPPIST-1e  24.0  False   \n",
       "2     0003_01     Europa     False  A/0/S  TRAPPIST-1e  58.0   True   \n",
       "3     0003_02     Europa     False  A/0/S  TRAPPIST-1e  33.0  False   \n",
       "4     0004_01      Earth     False  F/1/S  TRAPPIST-1e  16.0  False   \n",
       "\n",
       "   RoomService  FoodCourt  ShoppingMall     Spa  VRDeck               Name  \\\n",
       "0          0.0        0.0           0.0     0.0     0.0    Maham Ofracculy   \n",
       "1        109.0        9.0          25.0   549.0    44.0       Juanna Vines   \n",
       "2         43.0     3576.0           0.0  6715.0    49.0      Altark Susent   \n",
       "3          0.0     1283.0         371.0  3329.0   193.0       Solam Susent   \n",
       "4        303.0       70.0         151.0   565.0     2.0  Willy Santantines   \n",
       "\n",
       "   Transported  \n",
       "0        False  \n",
       "1         True  \n",
       "2        False  \n",
       "3        False  \n",
       "4         True  "
      ]
     },
     "execution_count": 3,
     "metadata": {},
     "output_type": "execute_result"
    }
   ],
   "source": [
    "train = pd.read_csv('../input/spaceship-titanic/train.csv')\n",
    "train.head()"
   ]
  },
  {
   "cell_type": "code",
   "execution_count": 4,
   "id": "625ad07d",
   "metadata": {
    "execution": {
     "iopub.execute_input": "2022-04-19T22:54:46.404444Z",
     "iopub.status.busy": "2022-04-19T22:54:46.403728Z",
     "iopub.status.idle": "2022-04-19T22:54:46.431627Z",
     "shell.execute_reply": "2022-04-19T22:54:46.432446Z",
     "shell.execute_reply.started": "2022-04-19T22:26:13.387404Z"
    },
    "papermill": {
     "duration": 0.078277,
     "end_time": "2022-04-19T22:54:46.432704",
     "exception": false,
     "start_time": "2022-04-19T22:54:46.354427",
     "status": "completed"
    },
    "tags": []
   },
   "outputs": [
    {
     "name": "stdout",
     "output_type": "stream",
     "text": [
      "<class 'pandas.core.frame.DataFrame'>\n",
      "RangeIndex: 8693 entries, 0 to 8692\n",
      "Data columns (total 14 columns):\n",
      " #   Column        Non-Null Count  Dtype  \n",
      "---  ------        --------------  -----  \n",
      " 0   PassengerId   8693 non-null   object \n",
      " 1   HomePlanet    8492 non-null   object \n",
      " 2   CryoSleep     8476 non-null   object \n",
      " 3   Cabin         8494 non-null   object \n",
      " 4   Destination   8511 non-null   object \n",
      " 5   Age           8514 non-null   float64\n",
      " 6   VIP           8490 non-null   object \n",
      " 7   RoomService   8512 non-null   float64\n",
      " 8   FoodCourt     8510 non-null   float64\n",
      " 9   ShoppingMall  8485 non-null   float64\n",
      " 10  Spa           8510 non-null   float64\n",
      " 11  VRDeck        8505 non-null   float64\n",
      " 12  Name          8493 non-null   object \n",
      " 13  Transported   8693 non-null   bool   \n",
      "dtypes: bool(1), float64(6), object(7)\n",
      "memory usage: 891.5+ KB\n"
     ]
    }
   ],
   "source": [
    "train.info()"
   ]
  },
  {
   "cell_type": "code",
   "execution_count": 5,
   "id": "8d0d888a",
   "metadata": {
    "execution": {
     "iopub.execute_input": "2022-04-19T22:54:46.523213Z",
     "iopub.status.busy": "2022-04-19T22:54:46.522515Z",
     "iopub.status.idle": "2022-04-19T22:54:46.530394Z",
     "shell.execute_reply": "2022-04-19T22:54:46.530959Z",
     "shell.execute_reply.started": "2022-04-19T22:26:13.405983Z"
    },
    "papermill": {
     "duration": 0.054651,
     "end_time": "2022-04-19T22:54:46.531158",
     "exception": false,
     "start_time": "2022-04-19T22:54:46.476507",
     "status": "completed"
    },
    "tags": []
   },
   "outputs": [],
   "source": [
    "# Both Cryosleep and VIP are both objects but should be changed to bools\n",
    "train[['CryoSleep', 'VIP']] = train[['CryoSleep', 'VIP']].astype(bool)"
   ]
  },
  {
   "cell_type": "code",
   "execution_count": 6,
   "id": "8dcf258a",
   "metadata": {
    "execution": {
     "iopub.execute_input": "2022-04-19T22:54:46.621730Z",
     "iopub.status.busy": "2022-04-19T22:54:46.621043Z",
     "iopub.status.idle": "2022-04-19T22:54:46.628944Z",
     "shell.execute_reply": "2022-04-19T22:54:46.628402Z",
     "shell.execute_reply.started": "2022-04-19T22:26:13.491057Z"
    },
    "papermill": {
     "duration": 0.053981,
     "end_time": "2022-04-19T22:54:46.629092",
     "exception": false,
     "start_time": "2022-04-19T22:54:46.575111",
     "status": "completed"
    },
    "tags": []
   },
   "outputs": [
    {
     "name": "stdout",
     "output_type": "stream",
     "text": [
      "TRAPPIST-1e\n",
      "55 Cancri e\n",
      "PSO J318.5-22\n"
     ]
    }
   ],
   "source": [
    "for planet in train['Destination'].value_counts().index:\n",
    "    print(planet)"
   ]
  },
  {
   "cell_type": "markdown",
   "id": "52f0747a",
   "metadata": {
    "papermill": {
     "duration": 0.042857,
     "end_time": "2022-04-19T22:54:46.716200",
     "exception": false,
     "start_time": "2022-04-19T22:54:46.673343",
     "status": "completed"
    },
    "tags": []
   },
   "source": [
    "Let's begin to take a look at the data available to us, beginning with the homeplanets and destinations:"
   ]
  },
  {
   "cell_type": "code",
   "execution_count": 7,
   "id": "936af3e1",
   "metadata": {
    "execution": {
     "iopub.execute_input": "2022-04-19T22:54:46.815627Z",
     "iopub.status.busy": "2022-04-19T22:54:46.814861Z",
     "iopub.status.idle": "2022-04-19T22:54:47.259964Z",
     "shell.execute_reply": "2022-04-19T22:54:47.260485Z",
     "shell.execute_reply.started": "2022-04-19T22:26:13.630555Z"
    },
    "papermill": {
     "duration": 0.500962,
     "end_time": "2022-04-19T22:54:47.260682",
     "exception": false,
     "start_time": "2022-04-19T22:54:46.759720",
     "status": "completed"
    },
    "tags": []
   },
   "outputs": [
    {
     "name": "stdout",
     "output_type": "stream",
     "text": [
      "HomePlanet\n",
      "Earth : 42.39\n",
      "Europa : 65.88\n",
      "Mars : 52.3\n",
      "\n",
      "\n",
      "Destination\n",
      "TRAPPIST-1e : 47.12\n",
      "55 Cancri e : 61.0\n",
      "PSO J318.5-22 : 50.38\n",
      "\n",
      "\n"
     ]
    },
    {
     "data": {
      "image/png": "[encoded data removed]",
      "text/plain": [
       "<Figure size 864x288 with 2 Axes>"
      ]
     },
     "metadata": {},
     "output_type": "display_data"
    }
   ],
   "source": [
    "# Seeing that we only have three planets, let's look at the counts of survival here:\n",
    "fig, ax = plt.subplots(1, 2, figsize=(12,4))\n",
    "sns.countplot(x='HomePlanet', hue='Transported', data=train, ax=ax[0])\n",
    "sns.countplot(x='Destination', hue='Transported', data=train, ax=ax[1])\n",
    "\n",
    "# What's the percentage of those transported for each planet?\n",
    "for col in ['HomePlanet', 'Destination']:\n",
    "    print(col)\n",
    "    for planet in train[col].value_counts().index:\n",
    "        df_temp = train[train[col] == planet]\n",
    "        transported = len(df_temp[df_temp['Transported'] == 1])\n",
    "        print(planet, ':', round(transported/len(df_temp) * 100, 2))\n",
    "    print('\\n')"
   ]
  },
  {
   "cell_type": "markdown",
   "id": "42de8306",
   "metadata": {
    "papermill": {
     "duration": 0.044182,
     "end_time": "2022-04-19T22:54:47.350522",
     "exception": false,
     "start_time": "2022-04-19T22:54:47.306340",
     "status": "completed"
    },
    "tags": []
   },
   "source": [
    "Most notably, Europa had the highest percentage of those transported while Earth has more passengers than both Europa and Mars combined.\n",
    "\n",
    "When considering the desitnations, Trappist was the most popular destination by a LONG shot. However, the destination with the highest transported rate was 55 Cancri."
   ]
  },
  {
   "cell_type": "code",
   "execution_count": 8,
   "id": "9bb6e8f6",
   "metadata": {
    "execution": {
     "iopub.execute_input": "2022-04-19T22:54:47.442823Z",
     "iopub.status.busy": "2022-04-19T22:54:47.442167Z",
     "iopub.status.idle": "2022-04-19T22:55:40.270597Z",
     "shell.execute_reply": "2022-04-19T22:55:40.271158Z",
     "shell.execute_reply.started": "2022-04-19T22:26:14.098411Z"
    },
    "papermill": {
     "duration": 52.876228,
     "end_time": "2022-04-19T22:55:40.271331",
     "exception": false,
     "start_time": "2022-04-19T22:54:47.395103",
     "status": "completed"
    },
    "tags": []
   },
   "outputs": [
    {
     "data": {
      "text/plain": [
       "<AxesSubplot:xlabel='Transported', ylabel='TotalSpend'>"
      ]
     },
     "metadata": {},
     "output_type": "display_data"
    },
    {
     "data": {
      "image/png": "[encoded data removed]",
      "text/plain": [
       "<Figure size 432x288 with 1 Axes>"
      ]
     },
     "metadata": {},
     "output_type": "display_data"
    },
    {
     "data": {
      "image/png": "[encoded data removed]",
      "text/plain": [
       "<Figure size 1152x360 with 5 Axes>"
      ]
     },
     "metadata": {},
     "output_type": "display_data"
    }
   ],
   "source": [
    "# I'd like to create a totalspend column to aggregate the different areas as this will facilitate for this visualization\n",
    "train['TotalSpend'] = train['RoomService'] + train['FoodCourt'] + train['ShoppingMall'] + train['Spa'] + train['VRDeck']\n",
    "\n",
    "display(sns.violinplot(x='Transported', y='TotalSpend', data=train))\n",
    "\n",
    "fig, ax = plt.subplots(1, 5, figsize=(16, 5))\n",
    "for i, col in enumerate(['RoomService', 'FoodCourt', 'ShoppingMall', 'Spa', 'VRDeck']):\n",
    "    sns.histplot(x=train[col], ax=ax[i])\n",
    "    ax[i].set_title(col)"
   ]
  },
  {
   "cell_type": "markdown",
   "id": "f26500f8",
   "metadata": {
    "papermill": {
     "duration": 0.046977,
     "end_time": "2022-04-19T22:55:40.365210",
     "exception": false,
     "start_time": "2022-04-19T22:55:40.318233",
     "status": "completed"
    },
    "tags": []
   },
   "source": [
    "Seems like we have some huge outliers, let's see who it is that's messing up our graphs:"
   ]
  },
  {
   "cell_type": "code",
   "execution_count": 9,
   "id": "19fcc047",
   "metadata": {
    "execution": {
     "iopub.execute_input": "2022-04-19T22:55:40.466335Z",
     "iopub.status.busy": "2022-04-19T22:55:40.465577Z",
     "iopub.status.idle": "2022-04-19T22:55:40.741637Z",
     "shell.execute_reply": "2022-04-19T22:55:40.742147Z",
     "shell.execute_reply.started": "2022-04-19T22:27:00.738745Z"
    },
    "papermill": {
     "duration": 0.329845,
     "end_time": "2022-04-19T22:55:40.742319",
     "exception": false,
     "start_time": "2022-04-19T22:55:40.412474",
     "status": "completed"
    },
    "tags": []
   },
   "outputs": [
    {
     "data": {
      "text/plain": [
       "<AxesSubplot:xlabel='TotalSpend', ylabel='Count'>"
      ]
     },
     "execution_count": 9,
     "metadata": {},
     "output_type": "execute_result"
    },
    {
     "data": {
      "image/png": "[encoded data removed]",
      "text/plain": [
       "<Figure size 432x288 with 1 Axes>"
      ]
     },
     "metadata": {},
     "output_type": "display_data"
    }
   ],
   "source": [
    "# Seems like we have some exorbitant spenders, let's see who that is:\n",
    "high_spenders = train[train['TotalSpend'] > train['TotalSpend'].quantile(0.99)]\n",
    "sns.histplot(x=high_spenders['TotalSpend'], kde=True, bins=20)"
   ]
  },
  {
   "cell_type": "markdown",
   "id": "bada32e2",
   "metadata": {
    "papermill": {
     "duration": 0.048652,
     "end_time": "2022-04-19T22:55:40.839517",
     "exception": false,
     "start_time": "2022-04-19T22:55:40.790865",
     "status": "completed"
    },
    "tags": []
   },
   "source": [
    "Even within our 99% of spenders, there's still a big difference between the lower and upper ends of the spectrum. However, the main thing I've gathered from the `TotalSpend` column is that there are several passengers which seem to never have spent a dime - let's see what percentage of passengers that is:"
   ]
  },
  {
   "cell_type": "code",
   "execution_count": 10,
   "id": "42ea4cac",
   "metadata": {
    "execution": {
     "iopub.execute_input": "2022-04-19T22:55:40.940505Z",
     "iopub.status.busy": "2022-04-19T22:55:40.939826Z",
     "iopub.status.idle": "2022-04-19T22:55:40.946606Z",
     "shell.execute_reply": "2022-04-19T22:55:40.947071Z",
     "shell.execute_reply.started": "2022-04-19T22:27:01.059101Z"
    },
    "papermill": {
     "duration": 0.059292,
     "end_time": "2022-04-19T22:55:40.947248",
     "exception": false,
     "start_time": "2022-04-19T22:55:40.887956",
     "status": "completed"
    },
    "tags": []
   },
   "outputs": [
    {
     "data": {
      "text/plain": [
       "37.35189232715979"
      ]
     },
     "execution_count": 10,
     "metadata": {},
     "output_type": "execute_result"
    }
   ],
   "source": [
    "len(train[train['TotalSpend'] == 0]) / len(train) * 100"
   ]
  },
  {
   "cell_type": "markdown",
   "id": "290a203c",
   "metadata": {
    "papermill": {
     "duration": 0.048462,
     "end_time": "2022-04-19T22:55:41.044732",
     "exception": false,
     "start_time": "2022-04-19T22:55:40.996270",
     "status": "completed"
    },
    "tags": []
   },
   "source": [
    "Roughly **38%** of passengers never even spend a dollar, this highly inflates the `TotalSpend` column and with this number of non-spenders, we should create a new column that describes whether the passenger spent money or not, we can call this new column `Spend`"
   ]
  },
  {
   "cell_type": "code",
   "execution_count": 11,
   "id": "5cec4b25",
   "metadata": {
    "execution": {
     "iopub.execute_input": "2022-04-19T22:55:41.147612Z",
     "iopub.status.busy": "2022-04-19T22:55:41.146944Z",
     "iopub.status.idle": "2022-04-19T22:55:41.151426Z",
     "shell.execute_reply": "2022-04-19T22:55:41.151908Z",
     "shell.execute_reply.started": "2022-04-19T22:27:01.070454Z"
    },
    "papermill": {
     "duration": 0.057672,
     "end_time": "2022-04-19T22:55:41.152091",
     "exception": false,
     "start_time": "2022-04-19T22:55:41.094419",
     "status": "completed"
    },
    "tags": []
   },
   "outputs": [],
   "source": [
    "train['Spend'] = train['TotalSpend'] != 0"
   ]
  },
  {
   "cell_type": "markdown",
   "id": "635920f6",
   "metadata": {
    "papermill": {
     "duration": 0.049053,
     "end_time": "2022-04-19T22:55:41.250696",
     "exception": false,
     "start_time": "2022-04-19T22:55:41.201643",
     "status": "completed"
    },
    "tags": []
   },
   "source": [
    "With that out of the way, let's continue looking at the data"
   ]
  },
  {
   "cell_type": "code",
   "execution_count": 12,
   "id": "30fe0da0",
   "metadata": {
    "execution": {
     "iopub.execute_input": "2022-04-19T22:55:41.353082Z",
     "iopub.status.busy": "2022-04-19T22:55:41.352440Z",
     "iopub.status.idle": "2022-04-19T22:55:42.609478Z",
     "shell.execute_reply": "2022-04-19T22:55:42.610009Z",
     "shell.execute_reply.started": "2022-04-19T22:27:01.082309Z"
    },
    "papermill": {
     "duration": 1.310541,
     "end_time": "2022-04-19T22:55:42.610195",
     "exception": false,
     "start_time": "2022-04-19T22:55:41.299654",
     "status": "completed"
    },
    "tags": []
   },
   "outputs": [
    {
     "data": {
      "image/png": "[encoded data removed]",
      "text/plain": [
       "<Figure size 432x432 with 4 Axes>"
      ]
     },
     "metadata": {},
     "output_type": "display_data"
    }
   ],
   "source": [
    "g = sns.FacetGrid(train, col='CryoSleep', row='Transported')\n",
    "g.map(sns.scatterplot, 'Age', 'TotalSpend')\n",
    "g.tight_layout()"
   ]
  },
  {
   "cell_type": "markdown",
   "id": "ee63a966",
   "metadata": {
    "papermill": {
     "duration": 0.051339,
     "end_time": "2022-04-19T22:55:42.714855",
     "exception": false,
     "start_time": "2022-04-19T22:55:42.663516",
     "status": "completed"
    },
    "tags": []
   },
   "source": [
    "This is one of those duh moments, where of course those who are in cryosleep are not going to have any sort of spend. In terms of those who were awake, the amount of total spend has a sort of normal distribution with age.\n",
    "\n",
    "Perhaps a better FacetGrid would be with the VIP column instead:"
   ]
  },
  {
   "cell_type": "code",
   "execution_count": 13,
   "id": "75dd99c9",
   "metadata": {
    "execution": {
     "iopub.execute_input": "2022-04-19T22:55:42.825136Z",
     "iopub.status.busy": "2022-04-19T22:55:42.824076Z",
     "iopub.status.idle": "2022-04-19T22:55:43.952017Z",
     "shell.execute_reply": "2022-04-19T22:55:43.952451Z",
     "shell.execute_reply.started": "2022-04-19T22:27:02.285201Z"
    },
    "papermill": {
     "duration": 1.185859,
     "end_time": "2022-04-19T22:55:43.952693",
     "exception": false,
     "start_time": "2022-04-19T22:55:42.766834",
     "status": "completed"
    },
    "tags": []
   },
   "outputs": [
    {
     "data": {
      "text/plain": [
       "<seaborn.axisgrid.FacetGrid at 0x7fe4b0f2d7d0>"
      ]
     },
     "execution_count": 13,
     "metadata": {},
     "output_type": "execute_result"
    },
    {
     "data": {
      "image/png": "[encoded data removed]",
      "text/plain": [
       "<Figure size 432x432 with 4 Axes>"
      ]
     },
     "metadata": {},
     "output_type": "display_data"
    }
   ],
   "source": [
    "g = sns.FacetGrid(train, col='VIP', row='Transported')\n",
    "g.map(sns.scatterplot, 'Age', 'TotalSpend')"
   ]
  },
  {
   "cell_type": "code",
   "execution_count": 14,
   "id": "c27c14cd",
   "metadata": {
    "execution": {
     "iopub.execute_input": "2022-04-19T22:55:44.069042Z",
     "iopub.status.busy": "2022-04-19T22:55:44.068302Z",
     "iopub.status.idle": "2022-04-19T22:55:44.302587Z",
     "shell.execute_reply": "2022-04-19T22:55:44.301918Z",
     "shell.execute_reply.started": "2022-04-19T22:27:03.351897Z"
    },
    "papermill": {
     "duration": 0.295003,
     "end_time": "2022-04-19T22:55:44.302739",
     "exception": false,
     "start_time": "2022-04-19T22:55:44.007736",
     "status": "completed"
    },
    "tags": []
   },
   "outputs": [
    {
     "data": {
      "text/plain": [
       "<AxesSubplot:xlabel='Transported', ylabel='count'>"
      ]
     },
     "execution_count": 14,
     "metadata": {},
     "output_type": "execute_result"
    },
    {
     "data": {
      "image/png": "[encoded data removed]",
      "text/plain": [
       "<Figure size 432x288 with 1 Axes>"
      ]
     },
     "metadata": {},
     "output_type": "display_data"
    }
   ],
   "source": [
    "# Nothing too interesting here, but let's look closer at VIP to see if being a VIP was a good indicator of \n",
    "# whether you'd get shipped off\n",
    "sns.countplot(x='Transported', hue='VIP', data=train)"
   ]
  },
  {
   "cell_type": "markdown",
   "id": "1cc3174d",
   "metadata": {
    "papermill": {
     "duration": 0.05509,
     "end_time": "2022-04-19T22:55:44.414082",
     "exception": false,
     "start_time": "2022-04-19T22:55:44.358992",
     "status": "completed"
    },
    "tags": []
   },
   "source": [
    "Seems like VIP really makes no difference in the grand scheme of things."
   ]
  },
  {
   "cell_type": "markdown",
   "id": "acf313d9",
   "metadata": {
    "papermill": {
     "duration": 0.054761,
     "end_time": "2022-04-19T22:55:44.524122",
     "exception": false,
     "start_time": "2022-04-19T22:55:44.469361",
     "status": "completed"
    },
    "tags": []
   },
   "source": [
    "I want to take a look at the `cabin` column, but first let's split the column into something more useful based on description:"
   ]
  },
  {
   "cell_type": "code",
   "execution_count": 15,
   "id": "490a7ca9",
   "metadata": {
    "execution": {
     "iopub.execute_input": "2022-04-19T22:55:44.663684Z",
     "iopub.status.busy": "2022-04-19T22:55:44.662974Z",
     "iopub.status.idle": "2022-04-19T22:55:44.665638Z",
     "shell.execute_reply": "2022-04-19T22:55:44.665093Z",
     "shell.execute_reply.started": "2022-04-19T22:27:03.597858Z"
    },
    "papermill": {
     "duration": 0.082704,
     "end_time": "2022-04-19T22:55:44.665792",
     "exception": false,
     "start_time": "2022-04-19T22:55:44.583088",
     "status": "completed"
    },
    "tags": []
   },
   "outputs": [],
   "source": [
    "train['Side'] = train['Cabin'].str[-1]\n",
    "train['Deck'] = train['Cabin'].str[0]"
   ]
  },
  {
   "cell_type": "code",
   "execution_count": 16,
   "id": "0063e027",
   "metadata": {
    "execution": {
     "iopub.execute_input": "2022-04-19T22:55:44.781684Z",
     "iopub.status.busy": "2022-04-19T22:55:44.781011Z",
     "iopub.status.idle": "2022-04-19T22:55:45.281552Z",
     "shell.execute_reply": "2022-04-19T22:55:45.280849Z",
     "shell.execute_reply.started": "2022-04-19T22:27:03.616119Z"
    },
    "papermill": {
     "duration": 0.559985,
     "end_time": "2022-04-19T22:55:45.281802",
     "exception": false,
     "start_time": "2022-04-19T22:55:44.721817",
     "status": "completed"
    },
    "tags": []
   },
   "outputs": [
    {
     "data": {
      "text/plain": [
       "<AxesSubplot:xlabel='Deck', ylabel='count'>"
      ]
     },
     "execution_count": 16,
     "metadata": {},
     "output_type": "execute_result"
    },
    {
     "data": {
      "image/png": "[encoded data removed]",
      "text/plain": [
       "<Figure size 864x432 with 2 Axes>"
      ]
     },
     "metadata": {},
     "output_type": "display_data"
    }
   ],
   "source": [
    "fig, ax = plt.subplots(1, 2, figsize=(12, 6))\n",
    "sns.countplot(x='Side', hue='Transported', data=train, ax=ax[0])\n",
    "sns.countplot(x='Deck', hue='Transported', data=train, ax=ax[1])"
   ]
  },
  {
   "cell_type": "markdown",
   "id": "52f766ac",
   "metadata": {
    "papermill": {
     "duration": 0.058909,
     "end_time": "2022-04-19T22:55:45.398041",
     "exception": false,
     "start_time": "2022-04-19T22:55:45.339132",
     "status": "completed"
    },
    "tags": []
   },
   "source": [
    "Seems like the side of the ship you were on has no effect on whether you were or were not transported. Similarly, when looking at the `Deck` column, there does not seem to a great indicator - the closest being **Deck B** where more than half the passengers were transported."
   ]
  },
  {
   "cell_type": "markdown",
   "id": "712fecab",
   "metadata": {
    "papermill": {
     "duration": 0.057008,
     "end_time": "2022-04-19T22:55:45.514246",
     "exception": false,
     "start_time": "2022-04-19T22:55:45.457238",
     "status": "completed"
    },
    "tags": []
   },
   "source": [
    "## Model Prep\n",
    "\n",
    "Since there are several categorical columns I'd like to take advantage of, I'll need to encode them to make it easier for the ML estimator.\n",
    "\n",
    "For now I'm going to drop the `Name` and `PassengerId` columns since I don't believe they'll add much value.\n",
    "\n",
    "I'll also be dropping the `TotalSpend` and `Cabin` columns as they are no longer needed."
   ]
  },
  {
   "cell_type": "code",
   "execution_count": 17,
   "id": "31d231f9",
   "metadata": {
    "execution": {
     "iopub.execute_input": "2022-04-19T22:55:45.631780Z",
     "iopub.status.busy": "2022-04-19T22:55:45.631072Z",
     "iopub.status.idle": "2022-04-19T22:55:48.575429Z",
     "shell.execute_reply": "2022-04-19T22:55:48.575985Z",
     "shell.execute_reply.started": "2022-04-19T22:40:00.131136Z"
    },
    "papermill": {
     "duration": 3.004811,
     "end_time": "2022-04-19T22:55:48.576166",
     "exception": false,
     "start_time": "2022-04-19T22:55:45.571355",
     "status": "completed"
    },
    "tags": []
   },
   "outputs": [
    {
     "data": {
      "text/html": [
       "<style type='text/css'>\n",
       ".datatable table.frame { margin-bottom: 0; }\n",
       ".datatable table.frame thead { border-bottom: none; }\n",
       ".datatable table.frame tr.coltypes td {  color: #FFFFFF;  line-height: 6px;  padding: 0 0.5em;}\n",
       ".datatable .bool    { background: #DDDD99; }\n",
       ".datatable .object  { background: #565656; }\n",
       ".datatable .int     { background: #5D9E5D; }\n",
       ".datatable .float   { background: #4040CC; }\n",
       ".datatable .str     { background: #CC4040; }\n",
       ".datatable .time    { background: #40CC40; }\n",
       ".datatable .row_index {  background: var(--jp-border-color3);  border-right: 1px solid var(--jp-border-color0);  color: var(--jp-ui-font-color3);  font-size: 9px;}\n",
       ".datatable .frame tbody td { text-align: left; }\n",
       ".datatable .frame tr.coltypes .row_index {  background: var(--jp-border-color0);}\n",
       ".datatable th:nth-child(2) { padding-left: 12px; }\n",
       ".datatable .hellipsis {  color: var(--jp-cell-editor-border-color);}\n",
       ".datatable .vellipsis {  background: var(--jp-layout-color0);  color: var(--jp-cell-editor-border-color);}\n",
       ".datatable .na {  color: var(--jp-cell-editor-border-color);  font-size: 80%;}\n",
       ".datatable .sp {  opacity: 0.25;}\n",
       ".datatable .footer { font-size: 9px; }\n",
       ".datatable .frame_dimensions {  background: var(--jp-border-color3);  border-top: 1px solid var(--jp-border-color0);  color: var(--jp-ui-font-color3);  display: inline-block;  opacity: 0.6;  padding: 1px 10px 1px 5px;}\n",
       "</style>\n"
      ],
      "text/plain": [
       "<IPython.core.display.HTML object>"
      ]
     },
     "metadata": {},
     "output_type": "display_data"
    }
   ],
   "source": [
    "from sklearn.preprocessing import OneHotEncoder\n",
    "from sklearn.model_selection import train_test_split, KFold, cross_val_score\n",
    "from sklearn.ensemble import RandomForestClassifier\n",
    "from sklearn.svm import SVC\n",
    "from sklearn.metrics import classification_report\n",
    "\n",
    "import lightgbm as lgb\n",
    "import xgboost as xgb\n",
    "import optuna "
   ]
  },
  {
   "cell_type": "code",
   "execution_count": 18,
   "id": "c39f0b02",
   "metadata": {
    "execution": {
     "iopub.execute_input": "2022-04-19T22:55:48.694731Z",
     "iopub.status.busy": "2022-04-19T22:55:48.694060Z",
     "iopub.status.idle": "2022-04-19T22:55:48.700375Z",
     "shell.execute_reply": "2022-04-19T22:55:48.700968Z",
     "shell.execute_reply.started": "2022-04-19T22:40:01.043241Z"
    },
    "papermill": {
     "duration": 0.067179,
     "end_time": "2022-04-19T22:55:48.701152",
     "exception": false,
     "start_time": "2022-04-19T22:55:48.633973",
     "status": "completed"
    },
    "tags": []
   },
   "outputs": [],
   "source": [
    "# Dropping the columns we no longer need\n",
    "train = train.drop(['Cabin', 'TotalSpend', 'Name', 'PassengerId'], axis=1)"
   ]
  },
  {
   "cell_type": "code",
   "execution_count": 19,
   "id": "1f095f5f",
   "metadata": {
    "execution": {
     "iopub.execute_input": "2022-04-19T22:55:48.820602Z",
     "iopub.status.busy": "2022-04-19T22:55:48.819971Z",
     "iopub.status.idle": "2022-04-19T22:55:48.848654Z",
     "shell.execute_reply": "2022-04-19T22:55:48.848007Z",
     "shell.execute_reply.started": "2022-04-19T22:40:05.914666Z"
    },
    "papermill": {
     "duration": 0.089681,
     "end_time": "2022-04-19T22:55:48.848799",
     "exception": false,
     "start_time": "2022-04-19T22:55:48.759118",
     "status": "completed"
    },
    "tags": []
   },
   "outputs": [],
   "source": [
    "# Encoding the nominal data\n",
    "encoder = OneHotEncoder()\n",
    "arr = encoder.fit_transform(train[['HomePlanet', 'Destination', 'Side', 'Deck']]).toarray()\n",
    "encoded_df = pd.DataFrame(data=arr, columns=encoder.get_feature_names_out())\n",
    "\n",
    "# Creating final dataframe\n",
    "df_train = pd.concat([train, encoded_df],axis=1).drop(['HomePlanet', 'Destination', 'Side', 'Deck'], axis=1)"
   ]
  },
  {
   "cell_type": "code",
   "execution_count": 20,
   "id": "9f49cd67",
   "metadata": {
    "execution": {
     "iopub.execute_input": "2022-04-19T22:55:48.968867Z",
     "iopub.status.busy": "2022-04-19T22:55:48.968205Z",
     "iopub.status.idle": "2022-04-19T22:55:48.977332Z",
     "shell.execute_reply": "2022-04-19T22:55:48.976715Z",
     "shell.execute_reply.started": "2022-04-19T22:40:06.780494Z"
    },
    "papermill": {
     "duration": 0.069861,
     "end_time": "2022-04-19T22:55:48.977464",
     "exception": false,
     "start_time": "2022-04-19T22:55:48.907603",
     "status": "completed"
    },
    "tags": []
   },
   "outputs": [
    {
     "data": {
      "text/plain": [
       "CryoSleep                    0.000000\n",
       "Age                          2.059128\n",
       "VIP                          0.000000\n",
       "RoomService                  2.082135\n",
       "FoodCourt                    2.105142\n",
       "ShoppingMall                 2.392730\n",
       "Spa                          2.105142\n",
       "VRDeck                       2.162660\n",
       "Transported                  0.000000\n",
       "Spend                        0.000000\n",
       "HomePlanet_Earth             0.000000\n",
       "HomePlanet_Europa            0.000000\n",
       "HomePlanet_Mars              0.000000\n",
       "HomePlanet_nan               0.000000\n",
       "Destination_55 Cancri e      0.000000\n",
       "Destination_PSO J318.5-22    0.000000\n",
       "Destination_TRAPPIST-1e      0.000000\n",
       "Destination_nan              0.000000\n",
       "Side_P                       0.000000\n",
       "Side_S                       0.000000\n",
       "Side_nan                     0.000000\n",
       "Deck_A                       0.000000\n",
       "Deck_B                       0.000000\n",
       "Deck_C                       0.000000\n",
       "Deck_D                       0.000000\n",
       "Deck_E                       0.000000\n",
       "Deck_F                       0.000000\n",
       "Deck_G                       0.000000\n",
       "Deck_T                       0.000000\n",
       "Deck_nan                     0.000000\n",
       "dtype: float64"
      ]
     },
     "execution_count": 20,
     "metadata": {},
     "output_type": "execute_result"
    }
   ],
   "source": [
    "# For some dumb reason I thought there was no missing data, that is clearly not the case\n",
    "df_train.isna().sum() / len(df_train) * 100"
   ]
  },
  {
   "cell_type": "code",
   "execution_count": 21,
   "id": "c9cd2857",
   "metadata": {
    "execution": {
     "iopub.execute_input": "2022-04-19T22:55:49.097189Z",
     "iopub.status.busy": "2022-04-19T22:55:49.096460Z",
     "iopub.status.idle": "2022-04-19T22:55:49.104622Z",
     "shell.execute_reply": "2022-04-19T22:55:49.104012Z",
     "shell.execute_reply.started": "2022-04-19T22:40:13.105404Z"
    },
    "papermill": {
     "duration": 0.068854,
     "end_time": "2022-04-19T22:55:49.104772",
     "exception": false,
     "start_time": "2022-04-19T22:55:49.035918",
     "status": "completed"
    },
    "tags": []
   },
   "outputs": [],
   "source": [
    "# Seeing that there's only a small percentage of data missing, we'll drop it for now:\n",
    "df_train.dropna(inplace=True)"
   ]
  },
  {
   "cell_type": "markdown",
   "id": "aab8559f",
   "metadata": {
    "papermill": {
     "duration": 0.058625,
     "end_time": "2022-04-19T22:55:49.222595",
     "exception": false,
     "start_time": "2022-04-19T22:55:49.163970",
     "status": "completed"
    },
    "tags": []
   },
   "source": [
    "## Modeling\n",
    "With that all completed, let's train a quick model and see the results:"
   ]
  },
  {
   "cell_type": "code",
   "execution_count": 22,
   "id": "da198844",
   "metadata": {
    "execution": {
     "iopub.execute_input": "2022-04-19T22:55:49.342916Z",
     "iopub.status.busy": "2022-04-19T22:55:49.342231Z",
     "iopub.status.idle": "2022-04-19T22:55:50.144045Z",
     "shell.execute_reply": "2022-04-19T22:55:50.143482Z",
     "shell.execute_reply.started": "2022-04-19T22:40:15.864228Z"
    },
    "papermill": {
     "duration": 0.862997,
     "end_time": "2022-04-19T22:55:50.144194",
     "exception": false,
     "start_time": "2022-04-19T22:55:49.281197",
     "status": "completed"
    },
    "tags": []
   },
   "outputs": [
    {
     "name": "stdout",
     "output_type": "stream",
     "text": [
      "              precision    recall  f1-score   support\n",
      "\n",
      "       False       0.79      0.86      0.82       767\n",
      "        True       0.84      0.77      0.80       757\n",
      "\n",
      "    accuracy                           0.81      1524\n",
      "   macro avg       0.82      0.81      0.81      1524\n",
      "weighted avg       0.82      0.81      0.81      1524\n",
      "\n"
     ]
    }
   ],
   "source": [
    "X = df_train.drop('Transported', axis=1)\n",
    "y = df_train.Transported\n",
    "\n",
    "X_train, X_valid, y_train, y_valid = train_test_split(X, y, test_size=0.2, random_state=101)\n",
    "\n",
    "rf = RandomForestClassifier()\n",
    "rf.fit(X_train, y_train)\n",
    "predictions = rf.predict(X_valid)\n",
    "\n",
    "print(classification_report(y_valid, predictions))"
   ]
  },
  {
   "cell_type": "markdown",
   "id": "68a67aaa",
   "metadata": {
    "papermill": {
     "duration": 0.061168,
     "end_time": "2022-04-19T22:55:50.264067",
     "exception": false,
     "start_time": "2022-04-19T22:55:50.202899",
     "status": "completed"
    },
    "tags": []
   },
   "source": [
    "While the results are ok, let's do a proper modeling job by optimizing the hyperparameters:"
   ]
  },
  {
   "cell_type": "markdown",
   "id": "bae8f083",
   "metadata": {
    "papermill": {
     "duration": 0.059531,
     "end_time": "2022-04-19T22:55:50.382382",
     "exception": false,
     "start_time": "2022-04-19T22:55:50.322851",
     "status": "completed"
    },
    "tags": []
   },
   "source": [
    "### Optuna w/ Scikit Learn Models"
   ]
  },
  {
   "cell_type": "code",
   "execution_count": 23,
   "id": "35a0eb9f",
   "metadata": {
    "execution": {
     "iopub.execute_input": "2022-04-19T22:55:50.506522Z",
     "iopub.status.busy": "2022-04-19T22:55:50.505790Z",
     "iopub.status.idle": "2022-04-19T22:56:31.455218Z",
     "shell.execute_reply": "2022-04-19T22:56:31.454446Z",
     "shell.execute_reply.started": "2022-04-19T22:40:30.073496Z"
    },
    "papermill": {
     "duration": 41.011306,
     "end_time": "2022-04-19T22:56:31.455378",
     "exception": false,
     "start_time": "2022-04-19T22:55:50.444072",
     "status": "completed"
    },
    "tags": []
   },
   "outputs": [
    {
     "name": "stderr",
     "output_type": "stream",
     "text": [
      "\u001b[32m[I 2022-04-19 22:55:50,512]\u001b[0m A new study created in memory with name: no-name-b125d0cd-e4d0-4270-b47a-1030a5cd3498\u001b[0m\n",
      "\u001b[32m[I 2022-04-19 22:55:57,541]\u001b[0m Trial 0 finished with value: 0.7401574803149606 and parameters: {'classifier': 'SVC', 'svc_c': 3.658957554591912, 'svc_gamma': 'auto'}. Best is trial 0 with value: 0.7401574803149606.\u001b[0m\n",
      "\u001b[32m[I 2022-04-19 22:56:00,024]\u001b[0m Trial 1 finished with value: 0.7892388451443569 and parameters: {'classifier': 'RandomForest', 'rf_max_depth': 7, 'rf_n_estimators': 351, 'rf_min_sample_split': 8, 'rf_leaves': 4}. Best is trial 1 with value: 0.7892388451443569.\u001b[0m\n",
      "\u001b[32m[I 2022-04-19 22:56:02,529]\u001b[0m Trial 2 finished with value: 0.7885826771653544 and parameters: {'classifier': 'SVC', 'svc_c': 0.5003898332710012, 'svc_gamma': 'scale'}. Best is trial 1 with value: 0.7892388451443569.\u001b[0m\n",
      "\u001b[32m[I 2022-04-19 22:56:09,509]\u001b[0m Trial 3 finished with value: 0.7366141732283463 and parameters: {'classifier': 'SVC', 'svc_c': 95.09164612742941, 'svc_gamma': 'auto'}. Best is trial 1 with value: 0.7892388451443569.\u001b[0m\n",
      "\u001b[32m[I 2022-04-19 22:56:12,044]\u001b[0m Trial 4 finished with value: 0.7902887139107612 and parameters: {'classifier': 'SVC', 'svc_c': 0.7752158293408983, 'svc_gamma': 'scale'}. Best is trial 4 with value: 0.7902887139107612.\u001b[0m\n",
      "\u001b[32m[I 2022-04-19 22:56:17,716]\u001b[0m Trial 5 finished with value: 0.7380577427821523 and parameters: {'classifier': 'SVC', 'svc_c': 17.544934709347274, 'svc_gamma': 'auto'}. Best is trial 4 with value: 0.7902887139107612.\u001b[0m\n",
      "\u001b[32m[I 2022-04-19 22:56:20,234]\u001b[0m Trial 6 finished with value: 0.7913385826771654 and parameters: {'classifier': 'SVC', 'svc_c': 2.0100780013926047, 'svc_gamma': 'scale'}. Best is trial 6 with value: 0.7913385826771654.\u001b[0m\n",
      "\u001b[32m[I 2022-04-19 22:56:24,436]\u001b[0m Trial 7 finished with value: 0.7359580052493438 and parameters: {'classifier': 'RandomForest', 'rf_max_depth': 3, 'rf_n_estimators': 891, 'rf_min_sample_split': 9, 'rf_leaves': 1}. Best is trial 6 with value: 0.7913385826771654.\u001b[0m\n",
      "\u001b[32m[I 2022-04-19 22:56:27,918]\u001b[0m Trial 8 finished with value: 0.7345144356955381 and parameters: {'classifier': 'RandomForest', 'rf_max_depth': 2, 'rf_n_estimators': 849, 'rf_min_sample_split': 3, 'rf_leaves': 2}. Best is trial 6 with value: 0.7913385826771654.\u001b[0m\n",
      "\u001b[32m[I 2022-04-19 22:56:31,443]\u001b[0m Trial 9 finished with value: 0.7956692913385827 and parameters: {'classifier': 'RandomForest', 'rf_max_depth': 11, 'rf_n_estimators': 471, 'rf_min_sample_split': 4, 'rf_leaves': 1}. Best is trial 9 with value: 0.7956692913385827.\u001b[0m\n"
     ]
    },
    {
     "name": "stdout",
     "output_type": "stream",
     "text": [
      "FrozenTrial(number=9, values=[0.7956692913385827], datetime_start=datetime.datetime(2022, 4, 19, 22, 56, 27, 919471), datetime_complete=datetime.datetime(2022, 4, 19, 22, 56, 31, 443134), params={'classifier': 'RandomForest', 'rf_max_depth': 11, 'rf_n_estimators': 471, 'rf_min_sample_split': 4, 'rf_leaves': 1}, distributions={'classifier': CategoricalDistribution(choices=('SVC', 'RandomForest')), 'rf_max_depth': IntLogUniformDistribution(high=12, low=2, step=1), 'rf_n_estimators': IntUniformDistribution(high=1000, low=10, step=1), 'rf_min_sample_split': IntUniformDistribution(high=12, low=1, step=1), 'rf_leaves': IntUniformDistribution(high=5, low=1, step=1)}, user_attrs={}, system_attrs={}, intermediate_values={}, trial_id=9, state=TrialState.COMPLETE, value=None)\n"
     ]
    }
   ],
   "source": [
    "def objective(trial):\n",
    "    x = df_train.drop('Transported', axis=1)\n",
    "    y = df_train.Transported\n",
    "\n",
    "    classifier_name = trial.suggest_categorical(\"classifier\", [\"SVC\", \"RandomForest\"])\n",
    "    if classifier_name == \"SVC\":\n",
    "        svc_c = trial.suggest_float(\"svc_c\", 0.1, 1000, log=True)\n",
    "        svc_gamma = trial.suggest_categorical(\"svc_gamma\", ['auto', 'scale'])\n",
    "        classifier_obj = SVC(C=svc_c, gamma=svc_gamma)\n",
    "    else:\n",
    "        rf_max_depth = trial.suggest_int(\"rf_max_depth\", 2, 12, log=True)\n",
    "        rf_estimators = trial.suggest_int(\"rf_n_estimators\", 10, 1000)\n",
    "        rf_split = trial.suggest_int(\"rf_min_sample_split\", 1, 12)\n",
    "        rf_leaves = trial.suggest_int(\"rf_leaves\", 1, 5)\n",
    "        classifier_obj = RandomForestClassifier(\n",
    "            max_depth=rf_max_depth, n_estimators=rf_estimators, min_samples_split=rf_split, min_samples_leaf= rf_leaves\n",
    "        )\n",
    "\n",
    "    score = cross_val_score(classifier_obj, x, y, n_jobs=-1, cv=3)\n",
    "    accuracy = score.mean()\n",
    "    return accuracy\n",
    "\n",
    "study = optuna.create_study(direction=\"maximize\")\n",
    "study.optimize(objective, n_trials=10)\n",
    "print(study.best_trial)"
   ]
  },
  {
   "cell_type": "markdown",
   "id": "354e188c",
   "metadata": {
    "papermill": {
     "duration": 0.063432,
     "end_time": "2022-04-19T22:56:31.581702",
     "exception": false,
     "start_time": "2022-04-19T22:56:31.518270",
     "status": "completed"
    },
    "tags": []
   },
   "source": [
    "As seen from the printouts, the best results came in at **0.7955** from the **Random Forest** model. Using these models was quite slow for even the small amouont of trials we ran, so let's go ahead and now try out optuna with *LightGBM*"
   ]
  },
  {
   "cell_type": "markdown",
   "id": "8770725a",
   "metadata": {
    "papermill": {
     "duration": 0.063291,
     "end_time": "2022-04-19T22:56:31.707743",
     "exception": false,
     "start_time": "2022-04-19T22:56:31.644452",
     "status": "completed"
    },
    "tags": []
   },
   "source": [
    "### Optuna w/ LightGBM"
   ]
  },
  {
   "cell_type": "code",
   "execution_count": 24,
   "id": "c2171abf",
   "metadata": {
    "execution": {
     "iopub.execute_input": "2022-04-19T22:56:31.842399Z",
     "iopub.status.busy": "2022-04-19T22:56:31.841442Z",
     "iopub.status.idle": "2022-04-19T22:56:31.844441Z",
     "shell.execute_reply": "2022-04-19T22:56:31.843925Z",
     "shell.execute_reply.started": "2022-04-19T22:41:38.586692Z"
    },
    "papermill": {
     "duration": 0.073533,
     "end_time": "2022-04-19T22:56:31.844600",
     "exception": false,
     "start_time": "2022-04-19T22:56:31.771067",
     "status": "completed"
    },
    "tags": []
   },
   "outputs": [],
   "source": [
    "import lightgbm as lgb\n",
    "from sklearn import metrics"
   ]
  },
  {
   "cell_type": "code",
   "execution_count": 25,
   "id": "e828b70e",
   "metadata": {
    "execution": {
     "iopub.execute_input": "2022-04-19T22:56:31.983710Z",
     "iopub.status.busy": "2022-04-19T22:56:31.982678Z",
     "iopub.status.idle": "2022-04-19T22:56:46.800916Z",
     "shell.execute_reply": "2022-04-19T22:56:46.802127Z",
     "shell.execute_reply.started": "2022-04-19T22:51:08.836925Z"
    },
    "papermill": {
     "duration": 14.894331,
     "end_time": "2022-04-19T22:56:46.802352",
     "exception": false,
     "start_time": "2022-04-19T22:56:31.908021",
     "status": "completed"
    },
    "tags": []
   },
   "outputs": [
    {
     "name": "stderr",
     "output_type": "stream",
     "text": [
      "\u001b[32m[I 2022-04-19 22:56:31,980]\u001b[0m A new study created in memory with name: no-name-c180c4f5-806b-4e23-a12a-0f209b98a9c8\u001b[0m\n",
      "\u001b[32m[I 2022-04-19 22:56:32,187]\u001b[0m Trial 0 finished with value: 0.7939632545931758 and parameters: {'lambda_l1': 0.04493122056302223, 'labmbda_l2': 0.017624445539641972, 'num_leaves': 972, 'feature_fraction': 0.15591717966677288, 'bagging_fraction': 0.49938942438774236, 'bagging_freq': 4, 'min_child_samples': 51}. Best is trial 0 with value: 0.7939632545931758.\u001b[0m\n"
     ]
    },
    {
     "name": "stdout",
     "output_type": "stream",
     "text": [
      "[LightGBM] [Warning] bagging_fraction is set=0.49938942438774236, subsample=1.0 will be ignored. Current value: bagging_fraction=0.49938942438774236\n",
      "[LightGBM] [Warning] lambda_l2 is set=0.017624445539641972, reg_lambda=0.0 will be ignored. Current value: lambda_l2=0.017624445539641972\n",
      "[LightGBM] [Warning] lambda_l1 is set=0.04493122056302223, reg_alpha=0.0 will be ignored. Current value: lambda_l1=0.04493122056302223\n",
      "[LightGBM] [Warning] bagging_freq is set=4, subsample_freq=0 will be ignored. Current value: bagging_freq=4\n",
      "[LightGBM] [Warning] feature_fraction is set=0.15591717966677288, colsample_bytree=1.0 will be ignored. Current value: feature_fraction=0.15591717966677288\n",
      "[LightGBM] [Warning] bagging_fraction is set=0.9161915977217019, subsample=1.0 will be ignored. Current value: bagging_fraction=0.9161915977217019\n",
      "[LightGBM] [Warning] lambda_l2 is set=0.0006074012415108941, reg_lambda=0.0 will be ignored. Current value: lambda_l2=0.0006074012415108941\n",
      "[LightGBM] [Warning] lambda_l1 is set=9.907401859536818e-06, reg_alpha=0.0 will be ignored. Current value: lambda_l1=9.907401859536818e-06\n",
      "[LightGBM] [Warning] bagging_freq is set=7, subsample_freq=0 will be ignored. Current value: bagging_freq=7\n",
      "[LightGBM] [Warning] feature_fraction is set=0.23220383892102603, colsample_bytree=1.0 will be ignored. Current value: feature_fraction=0.23220383892102603\n"
     ]
    },
    {
     "name": "stderr",
     "output_type": "stream",
     "text": [
      "\u001b[32m[I 2022-04-19 22:56:32,403]\u001b[0m Trial 1 finished with value: 0.8011811023622047 and parameters: {'lambda_l1': 9.907401859536818e-06, 'labmbda_l2': 0.0006074012415108941, 'num_leaves': 289, 'feature_fraction': 0.23220383892102603, 'bagging_fraction': 0.9161915977217019, 'bagging_freq': 7, 'min_child_samples': 76}. Best is trial 1 with value: 0.8011811023622047.\u001b[0m\n"
     ]
    },
    {
     "name": "stdout",
     "output_type": "stream",
     "text": [
      "[LightGBM] [Warning] bagging_fraction is set=0.9451984012079431, subsample=1.0 will be ignored. Current value: bagging_fraction=0.9451984012079431\n",
      "[LightGBM] [Warning] lambda_l2 is set=3.7551751632819515e-07, reg_lambda=0.0 will be ignored. Current value: lambda_l2=3.7551751632819515e-07\n",
      "[LightGBM] [Warning] lambda_l1 is set=0.5239488490969954, reg_alpha=0.0 will be ignored. Current value: lambda_l1=0.5239488490969954\n",
      "[LightGBM] [Warning] bagging_freq is set=5, subsample_freq=0 will be ignored. Current value: bagging_freq=5\n",
      "[LightGBM] [Warning] feature_fraction is set=0.7585144713551064, colsample_bytree=1.0 will be ignored. Current value: feature_fraction=0.7585144713551064\n"
     ]
    },
    {
     "name": "stderr",
     "output_type": "stream",
     "text": [
      "\u001b[32m[I 2022-04-19 22:56:33,033]\u001b[0m Trial 2 finished with value: 0.7959317585301837 and parameters: {'lambda_l1': 0.5239488490969954, 'labmbda_l2': 3.7551751632819515e-07, 'num_leaves': 648, 'feature_fraction': 0.7585144713551064, 'bagging_fraction': 0.9451984012079431, 'bagging_freq': 5, 'min_child_samples': 20}. Best is trial 1 with value: 0.8011811023622047.\u001b[0m\n",
      "\u001b[32m[I 2022-04-19 22:56:33,242]\u001b[0m Trial 3 finished with value: 0.8051181102362205 and parameters: {'lambda_l1': 1.8939887744262665e-06, 'labmbda_l2': 0.0002608335639408963, 'num_leaves': 155, 'feature_fraction': 0.5581190813252744, 'bagging_fraction': 0.5297428357241291, 'bagging_freq': 1, 'min_child_samples': 67}. Best is trial 3 with value: 0.8051181102362205.\u001b[0m\n"
     ]
    },
    {
     "name": "stdout",
     "output_type": "stream",
     "text": [
      "[LightGBM] [Warning] bagging_fraction is set=0.5297428357241291, subsample=1.0 will be ignored. Current value: bagging_fraction=0.5297428357241291\n",
      "[LightGBM] [Warning] lambda_l2 is set=0.0002608335639408963, reg_lambda=0.0 will be ignored. Current value: lambda_l2=0.0002608335639408963\n",
      "[LightGBM] [Warning] lambda_l1 is set=1.8939887744262665e-06, reg_alpha=0.0 will be ignored. Current value: lambda_l1=1.8939887744262665e-06\n",
      "[LightGBM] [Warning] bagging_freq is set=1, subsample_freq=0 will be ignored. Current value: bagging_freq=1\n",
      "[LightGBM] [Warning] feature_fraction is set=0.5581190813252744, colsample_bytree=1.0 will be ignored. Current value: feature_fraction=0.5581190813252744\n",
      "[LightGBM] [Warning] bagging_fraction is set=0.6166754499977519, subsample=1.0 will be ignored. Current value: bagging_fraction=0.6166754499977519\n",
      "[LightGBM] [Warning] lambda_l2 is set=1.1253283589559512e-07, reg_lambda=0.0 will be ignored. Current value: lambda_l2=1.1253283589559512e-07\n",
      "[LightGBM] [Warning] lambda_l1 is set=0.005122215570005898, reg_alpha=0.0 will be ignored. Current value: lambda_l1=0.005122215570005898\n",
      "[LightGBM] [Warning] bagging_freq is set=4, subsample_freq=0 will be ignored. Current value: bagging_freq=4\n",
      "[LightGBM] [Warning] feature_fraction is set=0.34929720927850233, colsample_bytree=1.0 will be ignored. Current value: feature_fraction=0.34929720927850233\n"
     ]
    },
    {
     "name": "stderr",
     "output_type": "stream",
     "text": [
      "\u001b[32m[I 2022-04-19 22:56:33,515]\u001b[0m Trial 4 finished with value: 0.7887139107611548 and parameters: {'lambda_l1': 0.005122215570005898, 'labmbda_l2': 1.1253283589559512e-07, 'num_leaves': 937, 'feature_fraction': 0.34929720927850233, 'bagging_fraction': 0.6166754499977519, 'bagging_freq': 4, 'min_child_samples': 50}. Best is trial 3 with value: 0.8051181102362205.\u001b[0m\n"
     ]
    },
    {
     "name": "stdout",
     "output_type": "stream",
     "text": [
      "[LightGBM] [Warning] bagging_fraction is set=0.7081329017697116, subsample=1.0 will be ignored. Current value: bagging_fraction=0.7081329017697116\n",
      "[LightGBM] [Warning] lambda_l2 is set=0.006407338772628395, reg_lambda=0.0 will be ignored. Current value: lambda_l2=0.006407338772628395\n",
      "[LightGBM] [Warning] lambda_l1 is set=8.610639907928362e-05, reg_alpha=0.0 will be ignored. Current value: lambda_l1=8.610639907928362e-05\n",
      "[LightGBM] [Warning] bagging_freq is set=1, subsample_freq=0 will be ignored. Current value: bagging_freq=1\n",
      "[LightGBM] [Warning] feature_fraction is set=0.864968080020528, colsample_bytree=1.0 will be ignored. Current value: feature_fraction=0.864968080020528\n"
     ]
    },
    {
     "name": "stderr",
     "output_type": "stream",
     "text": [
      "\u001b[32m[I 2022-04-19 22:56:33,804]\u001b[0m Trial 5 finished with value: 0.8097112860892388 and parameters: {'lambda_l1': 8.610639907928362e-05, 'labmbda_l2': 0.006407338772628395, 'num_leaves': 905, 'feature_fraction': 0.864968080020528, 'bagging_fraction': 0.7081329017697116, 'bagging_freq': 1, 'min_child_samples': 78}. Best is trial 5 with value: 0.8097112860892388.\u001b[0m\n"
     ]
    },
    {
     "name": "stdout",
     "output_type": "stream",
     "text": [
      "[LightGBM] [Warning] bagging_fraction is set=0.9962121615467483, subsample=1.0 will be ignored. Current value: bagging_fraction=0.9962121615467483\n",
      "[LightGBM] [Warning] lambda_l2 is set=4.849631720325815e-06, reg_lambda=0.0 will be ignored. Current value: lambda_l2=4.849631720325815e-06\n",
      "[LightGBM] [Warning] lambda_l1 is set=6.657619859759026e-06, reg_alpha=0.0 will be ignored. Current value: lambda_l1=6.657619859759026e-06\n",
      "[LightGBM] [Warning] bagging_freq is set=4, subsample_freq=0 will be ignored. Current value: bagging_freq=4\n",
      "[LightGBM] [Warning] feature_fraction is set=0.2617857499883033, colsample_bytree=1.0 will be ignored. Current value: feature_fraction=0.2617857499883033\n"
     ]
    },
    {
     "name": "stderr",
     "output_type": "stream",
     "text": [
      "\u001b[32m[I 2022-04-19 22:56:34,131]\u001b[0m Trial 6 finished with value: 0.7992125984251969 and parameters: {'lambda_l1': 6.657619859759026e-06, 'labmbda_l2': 4.849631720325815e-06, 'num_leaves': 906, 'feature_fraction': 0.2617857499883033, 'bagging_fraction': 0.9962121615467483, 'bagging_freq': 4, 'min_child_samples': 63}. Best is trial 5 with value: 0.8097112860892388.\u001b[0m\n"
     ]
    },
    {
     "name": "stdout",
     "output_type": "stream",
     "text": [
      "[LightGBM] [Warning] bagging_fraction is set=0.9288961391185445, subsample=1.0 will be ignored. Current value: bagging_fraction=0.9288961391185445\n",
      "[LightGBM] [Warning] lambda_l2 is set=1.0247302193924318e-06, reg_lambda=0.0 will be ignored. Current value: lambda_l2=1.0247302193924318e-06\n",
      "[LightGBM] [Warning] lambda_l1 is set=0.021454050643777547, reg_alpha=0.0 will be ignored. Current value: lambda_l1=0.021454050643777547\n",
      "[LightGBM] [Warning] bagging_freq is set=5, subsample_freq=0 will be ignored. Current value: bagging_freq=5\n",
      "[LightGBM] [Warning] feature_fraction is set=0.7931139011296892, colsample_bytree=1.0 will be ignored. Current value: feature_fraction=0.7931139011296892\n"
     ]
    },
    {
     "name": "stderr",
     "output_type": "stream",
     "text": [
      "\u001b[32m[I 2022-04-19 22:56:34,454]\u001b[0m Trial 7 finished with value: 0.8077427821522309 and parameters: {'lambda_l1': 0.021454050643777547, 'labmbda_l2': 1.0247302193924318e-06, 'num_leaves': 94, 'feature_fraction': 0.7931139011296892, 'bagging_fraction': 0.9288961391185445, 'bagging_freq': 5, 'min_child_samples': 73}. Best is trial 5 with value: 0.8097112860892388.\u001b[0m\n",
      "\u001b[32m[I 2022-04-19 22:56:34,668]\u001b[0m Trial 8 finished with value: 0.80249343832021 and parameters: {'lambda_l1': 7.5251949431028285e-06, 'labmbda_l2': 1.1483645077247955e-06, 'num_leaves': 570, 'feature_fraction': 0.8310876671278925, 'bagging_fraction': 0.3336319922600891, 'bagging_freq': 7, 'min_child_samples': 53}. Best is trial 5 with value: 0.8097112860892388.\u001b[0m\n"
     ]
    },
    {
     "name": "stdout",
     "output_type": "stream",
     "text": [
      "[LightGBM] [Warning] bagging_fraction is set=0.3336319922600891, subsample=1.0 will be ignored. Current value: bagging_fraction=0.3336319922600891\n",
      "[LightGBM] [Warning] lambda_l2 is set=1.1483645077247955e-06, reg_lambda=0.0 will be ignored. Current value: lambda_l2=1.1483645077247955e-06\n",
      "[LightGBM] [Warning] lambda_l1 is set=7.5251949431028285e-06, reg_alpha=0.0 will be ignored. Current value: lambda_l1=7.5251949431028285e-06\n",
      "[LightGBM] [Warning] bagging_freq is set=7, subsample_freq=0 will be ignored. Current value: bagging_freq=7\n",
      "[LightGBM] [Warning] feature_fraction is set=0.8310876671278925, colsample_bytree=1.0 will be ignored. Current value: feature_fraction=0.8310876671278925\n"
     ]
    },
    {
     "name": "stderr",
     "output_type": "stream",
     "text": [
      "\u001b[32m[I 2022-04-19 22:56:34,878]\u001b[0m Trial 9 finished with value: 0.7992125984251969 and parameters: {'lambda_l1': 5.246300023637342e-08, 'labmbda_l2': 1.890138591514479e-08, 'num_leaves': 918, 'feature_fraction': 0.26009954676658154, 'bagging_fraction': 0.8462995507402843, 'bagging_freq': 4, 'min_child_samples': 90}. Best is trial 5 with value: 0.8097112860892388.\u001b[0m\n"
     ]
    },
    {
     "name": "stdout",
     "output_type": "stream",
     "text": [
      "[LightGBM] [Warning] bagging_fraction is set=0.8462995507402843, subsample=1.0 will be ignored. Current value: bagging_fraction=0.8462995507402843\n",
      "[LightGBM] [Warning] lambda_l2 is set=1.890138591514479e-08, reg_lambda=0.0 will be ignored. Current value: lambda_l2=1.890138591514479e-08\n",
      "[LightGBM] [Warning] lambda_l1 is set=5.246300023637342e-08, reg_alpha=0.0 will be ignored. Current value: lambda_l1=5.246300023637342e-08\n",
      "[LightGBM] [Warning] bagging_freq is set=4, subsample_freq=0 will be ignored. Current value: bagging_freq=4\n",
      "[LightGBM] [Warning] feature_fraction is set=0.26009954676658154, colsample_bytree=1.0 will be ignored. Current value: feature_fraction=0.26009954676658154\n"
     ]
    },
    {
     "name": "stderr",
     "output_type": "stream",
     "text": [
      "\u001b[32m[I 2022-04-19 22:56:35,019]\u001b[0m Trial 10 finished with value: 0.786745406824147 and parameters: {'lambda_l1': 7.264531321184137, 'labmbda_l2': 1.6949863249953145, 'num_leaves': 719, 'feature_fraction': 0.9827228428159498, 'bagging_fraction': 0.1130303007833684, 'bagging_freq': 1, 'min_child_samples': 94}. Best is trial 5 with value: 0.8097112860892388.\u001b[0m\n"
     ]
    },
    {
     "name": "stdout",
     "output_type": "stream",
     "text": [
      "[LightGBM] [Warning] bagging_fraction is set=0.1130303007833684, subsample=1.0 will be ignored. Current value: bagging_fraction=0.1130303007833684\n",
      "[LightGBM] [Warning] lambda_l2 is set=1.6949863249953145, reg_lambda=0.0 will be ignored. Current value: lambda_l2=1.6949863249953145\n",
      "[LightGBM] [Warning] lambda_l1 is set=7.264531321184137, reg_alpha=0.0 will be ignored. Current value: lambda_l1=7.264531321184137\n",
      "[LightGBM] [Warning] bagging_freq is set=1, subsample_freq=0 will be ignored. Current value: bagging_freq=1\n",
      "[LightGBM] [Warning] feature_fraction is set=0.9827228428159498, colsample_bytree=1.0 will be ignored. Current value: feature_fraction=0.9827228428159498\n",
      "[LightGBM] [Warning] bagging_fraction is set=0.7196808945083976, subsample=1.0 will be ignored. Current value: bagging_fraction=0.7196808945083976\n",
      "[LightGBM] [Warning] lambda_l2 is set=7.196424955788978e-05, reg_lambda=0.0 will be ignored. Current value: lambda_l2=7.196424955788978e-05\n",
      "[LightGBM] [Warning] lambda_l1 is set=0.0013738819371229725, reg_alpha=0.0 will be ignored. Current value: lambda_l1=0.0013738819371229725\n",
      "[LightGBM] [Warning] bagging_freq is set=6, subsample_freq=0 will be ignored. Current value: bagging_freq=6\n",
      "[LightGBM] [Warning] feature_fraction is set=0.7197829824354154, colsample_bytree=1.0 will be ignored. Current value: feature_fraction=0.7197829824354154\n"
     ]
    },
    {
     "name": "stderr",
     "output_type": "stream",
     "text": [
      "\u001b[32m[I 2022-04-19 22:56:35,303]\u001b[0m Trial 11 finished with value: 0.8090551181102362 and parameters: {'lambda_l1': 0.0013738819371229725, 'labmbda_l2': 7.196424955788978e-05, 'num_leaves': 368, 'feature_fraction': 0.7197829824354154, 'bagging_fraction': 0.7196808945083976, 'bagging_freq': 6, 'min_child_samples': 82}. Best is trial 5 with value: 0.8097112860892388.\u001b[0m\n",
      "\u001b[32m[I 2022-04-19 22:56:35,555]\u001b[0m Trial 12 finished with value: 0.8057742782152231 and parameters: {'lambda_l1': 0.00029866873126280485, 'labmbda_l2': 0.026893490636641634, 'num_leaves': 414, 'feature_fraction': 0.6019955927744911, 'bagging_fraction': 0.6874771688742327, 'bagging_freq': 2, 'min_child_samples': 99}. Best is trial 5 with value: 0.8097112860892388.\u001b[0m\n"
     ]
    },
    {
     "name": "stdout",
     "output_type": "stream",
     "text": [
      "[LightGBM] [Warning] bagging_fraction is set=0.6874771688742327, subsample=1.0 will be ignored. Current value: bagging_fraction=0.6874771688742327\n",
      "[LightGBM] [Warning] lambda_l2 is set=0.026893490636641634, reg_lambda=0.0 will be ignored. Current value: lambda_l2=0.026893490636641634\n",
      "[LightGBM] [Warning] lambda_l1 is set=0.00029866873126280485, reg_alpha=0.0 will be ignored. Current value: lambda_l1=0.00029866873126280485\n",
      "[LightGBM] [Warning] bagging_freq is set=2, subsample_freq=0 will be ignored. Current value: bagging_freq=2\n",
      "[LightGBM] [Warning] feature_fraction is set=0.6019955927744911, colsample_bytree=1.0 will be ignored. Current value: feature_fraction=0.6019955927744911\n",
      "[LightGBM] [Warning] bagging_fraction is set=0.7531242413433241, subsample=1.0 will be ignored. Current value: bagging_fraction=0.7531242413433241\n",
      "[LightGBM] [Warning] lambda_l2 is set=8.161932554029522e-05, reg_lambda=0.0 will be ignored. Current value: lambda_l2=8.161932554029522e-05\n",
      "[LightGBM] [Warning] lambda_l1 is set=0.00034869394071275484, reg_alpha=0.0 will be ignored. Current value: lambda_l1=0.00034869394071275484\n",
      "[LightGBM] [Warning] bagging_freq is set=6, subsample_freq=0 will be ignored. Current value: bagging_freq=6\n",
      "[LightGBM] [Warning] feature_fraction is set=0.9632496195887794, colsample_bytree=1.0 will be ignored. Current value: feature_fraction=0.9632496195887794\n"
     ]
    },
    {
     "name": "stderr",
     "output_type": "stream",
     "text": [
      "\u001b[32m[I 2022-04-19 22:56:36,094]\u001b[0m Trial 13 finished with value: 0.7939632545931758 and parameters: {'lambda_l1': 0.00034869394071275484, 'labmbda_l2': 8.161932554029522e-05, 'num_leaves': 323, 'feature_fraction': 0.9632496195887794, 'bagging_fraction': 0.7531242413433241, 'bagging_freq': 6, 'min_child_samples': 31}. Best is trial 5 with value: 0.8097112860892388.\u001b[0m\n"
     ]
    },
    {
     "name": "stdout",
     "output_type": "stream",
     "text": [
      "[LightGBM] [Warning] bagging_fraction is set=0.7598457422231109, subsample=1.0 will be ignored. Current value: bagging_fraction=0.7598457422231109\n",
      "[LightGBM] [Warning] lambda_l2 is set=0.024530889516994434, reg_lambda=0.0 will be ignored. Current value: lambda_l2=0.024530889516994434\n",
      "[LightGBM] [Warning] lambda_l1 is set=0.0002627278822790009, reg_alpha=0.0 will be ignored. Current value: lambda_l1=0.0002627278822790009\n",
      "[LightGBM] [Warning] bagging_freq is set=2, subsample_freq=0 will be ignored. Current value: bagging_freq=2\n",
      "[LightGBM] [Warning] feature_fraction is set=0.6575365947744141, colsample_bytree=1.0 will be ignored. Current value: feature_fraction=0.6575365947744141\n"
     ]
    },
    {
     "name": "stderr",
     "output_type": "stream",
     "text": [
      "\u001b[32m[I 2022-04-19 22:56:36,391]\u001b[0m Trial 14 finished with value: 0.8116797900262467 and parameters: {'lambda_l1': 0.0002627278822790009, 'labmbda_l2': 0.024530889516994434, 'num_leaves': 784, 'feature_fraction': 0.6575365947744141, 'bagging_fraction': 0.7598457422231109, 'bagging_freq': 2, 'min_child_samples': 86}. Best is trial 14 with value: 0.8116797900262467.\u001b[0m\n"
     ]
    },
    {
     "name": "stdout",
     "output_type": "stream",
     "text": [
      "[LightGBM] [Warning] bagging_fraction is set=0.4279227493867296, subsample=1.0 will be ignored. Current value: bagging_fraction=0.4279227493867296\n",
      "[LightGBM] [Warning] lambda_l2 is set=6.203749705348771, reg_lambda=0.0 will be ignored. Current value: lambda_l2=6.203749705348771\n",
      "[LightGBM] [Warning] lambda_l1 is set=7.490255486527869e-08, reg_alpha=0.0 will be ignored. Current value: lambda_l1=7.490255486527869e-08\n",
      "[LightGBM] [Warning] bagging_freq is set=2, subsample_freq=0 will be ignored. Current value: bagging_freq=2\n",
      "[LightGBM] [Warning] feature_fraction is set=0.4106826818962391, colsample_bytree=1.0 will be ignored. Current value: feature_fraction=0.4106826818962391\n"
     ]
    },
    {
     "name": "stderr",
     "output_type": "stream",
     "text": [
      "\u001b[32m[I 2022-04-19 22:56:36,774]\u001b[0m Trial 15 finished with value: 0.8070866141732284 and parameters: {'lambda_l1': 7.490255486527869e-08, 'labmbda_l2': 6.203749705348771, 'num_leaves': 745, 'feature_fraction': 0.4106826818962391, 'bagging_fraction': 0.4279227493867296, 'bagging_freq': 2, 'min_child_samples': 5}. Best is trial 14 with value: 0.8116797900262467.\u001b[0m\n"
     ]
    },
    {
     "name": "stdout",
     "output_type": "stream",
     "text": [
      "[LightGBM] [Warning] bagging_fraction is set=0.8150070641902732, subsample=1.0 will be ignored. Current value: bagging_fraction=0.8150070641902732\n",
      "[LightGBM] [Warning] lambda_l2 is set=0.04862079528067027, reg_lambda=0.0 will be ignored. Current value: lambda_l2=0.04862079528067027\n",
      "[LightGBM] [Warning] lambda_l1 is set=4.9342660730404e-05, reg_alpha=0.0 will be ignored. Current value: lambda_l1=4.9342660730404e-05\n",
      "[LightGBM] [Warning] bagging_freq is set=2, subsample_freq=0 will be ignored. Current value: bagging_freq=2\n",
      "[LightGBM] [Warning] feature_fraction is set=0.6567794877602781, colsample_bytree=1.0 will be ignored. Current value: feature_fraction=0.6567794877602781\n"
     ]
    },
    {
     "name": "stderr",
     "output_type": "stream",
     "text": [
      "\u001b[32m[I 2022-04-19 22:56:37,091]\u001b[0m Trial 16 finished with value: 0.8051181102362205 and parameters: {'lambda_l1': 4.9342660730404e-05, 'labmbda_l2': 0.04862079528067027, 'num_leaves': 791, 'feature_fraction': 0.6567794877602781, 'bagging_fraction': 0.8150070641902732, 'bagging_freq': 2, 'min_child_samples': 82}. Best is trial 14 with value: 0.8116797900262467.\u001b[0m\n"
     ]
    },
    {
     "name": "stdout",
     "output_type": "stream",
     "text": [
      "[LightGBM] [Warning] bagging_fraction is set=0.6187336227338315, subsample=1.0 will be ignored. Current value: bagging_fraction=0.6187336227338315\n",
      "[LightGBM] [Warning] lambda_l2 is set=0.26544832858124884, reg_lambda=0.0 will be ignored. Current value: lambda_l2=0.26544832858124884\n",
      "[LightGBM] [Warning] lambda_l1 is set=4.6097573757732483e-07, reg_alpha=0.0 will be ignored. Current value: lambda_l1=4.6097573757732483e-07\n",
      "[LightGBM] [Warning] bagging_freq is set=3, subsample_freq=0 will be ignored. Current value: bagging_freq=3\n",
      "[LightGBM] [Warning] feature_fraction is set=0.46896242393248244, colsample_bytree=1.0 will be ignored. Current value: feature_fraction=0.46896242393248244\n"
     ]
    },
    {
     "name": "stderr",
     "output_type": "stream",
     "text": [
      "\u001b[32m[I 2022-04-19 22:56:37,373]\u001b[0m Trial 17 finished with value: 0.8011811023622047 and parameters: {'lambda_l1': 4.6097573757732483e-07, 'labmbda_l2': 0.26544832858124884, 'num_leaves': 809, 'feature_fraction': 0.46896242393248244, 'bagging_fraction': 0.6187336227338315, 'bagging_freq': 3, 'min_child_samples': 62}. Best is trial 14 with value: 0.8116797900262467.\u001b[0m\n",
      "\u001b[32m[I 2022-04-19 22:56:37,583]\u001b[0m Trial 18 finished with value: 0.7985564304461942 and parameters: {'lambda_l1': 6.395056428206658e-05, 'labmbda_l2': 0.002991751627281152, 'num_leaves': 529, 'feature_fraction': 0.9140121758098463, 'bagging_fraction': 0.3542517629454161, 'bagging_freq': 1, 'min_child_samples': 87}. Best is trial 14 with value: 0.8116797900262467.\u001b[0m\n"
     ]
    },
    {
     "name": "stdout",
     "output_type": "stream",
     "text": [
      "[LightGBM] [Warning] bagging_fraction is set=0.3542517629454161, subsample=1.0 will be ignored. Current value: bagging_fraction=0.3542517629454161\n",
      "[LightGBM] [Warning] lambda_l2 is set=0.002991751627281152, reg_lambda=0.0 will be ignored. Current value: lambda_l2=0.002991751627281152\n",
      "[LightGBM] [Warning] lambda_l1 is set=6.395056428206658e-05, reg_alpha=0.0 will be ignored. Current value: lambda_l1=6.395056428206658e-05\n",
      "[LightGBM] [Warning] bagging_freq is set=1, subsample_freq=0 will be ignored. Current value: bagging_freq=1\n",
      "[LightGBM] [Warning] feature_fraction is set=0.9140121758098463, colsample_bytree=1.0 will be ignored. Current value: feature_fraction=0.9140121758098463\n",
      "[LightGBM] [Warning] bagging_fraction is set=0.8148389191489791, subsample=1.0 will be ignored. Current value: bagging_fraction=0.8148389191489791\n",
      "[LightGBM] [Warning] lambda_l2 is set=0.0027720929819312185, reg_lambda=0.0 will be ignored. Current value: lambda_l2=0.0027720929819312185\n",
      "[LightGBM] [Warning] lambda_l1 is set=0.12240024717901517, reg_alpha=0.0 will be ignored. Current value: lambda_l1=0.12240024717901517\n",
      "[LightGBM] [Warning] bagging_freq is set=3, subsample_freq=0 will be ignored. Current value: bagging_freq=3\n",
      "[LightGBM] [Warning] feature_fraction is set=0.8686265654780101, colsample_bytree=1.0 will be ignored. Current value: feature_fraction=0.8686265654780101\n"
     ]
    },
    {
     "name": "stderr",
     "output_type": "stream",
     "text": [
      "\u001b[32m[I 2022-04-19 22:56:38,057]\u001b[0m Trial 19 finished with value: 0.7933070866141733 and parameters: {'lambda_l1': 0.12240024717901517, 'labmbda_l2': 0.0027720929819312185, 'num_leaves': 662, 'feature_fraction': 0.8686265654780101, 'bagging_fraction': 0.8148389191489791, 'bagging_freq': 3, 'min_child_samples': 38}. Best is trial 14 with value: 0.8116797900262467.\u001b[0m\n"
     ]
    },
    {
     "name": "stdout",
     "output_type": "stream",
     "text": [
      "[LightGBM] [Warning] bagging_fraction is set=0.6341335968313042, subsample=1.0 will be ignored. Current value: bagging_fraction=0.6341335968313042\n",
      "[LightGBM] [Warning] lambda_l2 is set=0.3625714524939718, reg_lambda=0.0 will be ignored. Current value: lambda_l2=0.3625714524939718\n",
      "[LightGBM] [Warning] lambda_l1 is set=0.0026500733303575713, reg_alpha=0.0 will be ignored. Current value: lambda_l1=0.0026500733303575713\n",
      "[LightGBM] [Warning] bagging_freq is set=3, subsample_freq=0 will be ignored. Current value: bagging_freq=3\n",
      "[LightGBM] [Warning] feature_fraction is set=0.6687592962046691, colsample_bytree=1.0 will be ignored. Current value: feature_fraction=0.6687592962046691\n"
     ]
    },
    {
     "name": "stderr",
     "output_type": "stream",
     "text": [
      "\u001b[32m[I 2022-04-19 22:56:38,328]\u001b[0m Trial 20 finished with value: 0.8143044619422573 and parameters: {'lambda_l1': 0.0026500733303575713, 'labmbda_l2': 0.3625714524939718, 'num_leaves': 848, 'feature_fraction': 0.6687592962046691, 'bagging_fraction': 0.6341335968313042, 'bagging_freq': 3, 'min_child_samples': 100}. Best is trial 20 with value: 0.8143044619422573.\u001b[0m\n"
     ]
    },
    {
     "name": "stdout",
     "output_type": "stream",
     "text": [
      "[LightGBM] [Warning] bagging_fraction is set=0.6486766521269193, subsample=1.0 will be ignored. Current value: bagging_fraction=0.6486766521269193\n",
      "[LightGBM] [Warning] lambda_l2 is set=0.26926707157264185, reg_lambda=0.0 will be ignored. Current value: lambda_l2=0.26926707157264185\n",
      "[LightGBM] [Warning] lambda_l1 is set=0.0026989010276636254, reg_alpha=0.0 will be ignored. Current value: lambda_l1=0.0026989010276636254\n",
      "[LightGBM] [Warning] bagging_freq is set=3, subsample_freq=0 will be ignored. Current value: bagging_freq=3\n",
      "[LightGBM] [Warning] feature_fraction is set=0.6768793708859235, colsample_bytree=1.0 will be ignored. Current value: feature_fraction=0.6768793708859235\n"
     ]
    },
    {
     "name": "stderr",
     "output_type": "stream",
     "text": [
      "\u001b[32m[I 2022-04-19 22:56:38,953]\u001b[0m Trial 21 finished with value: 0.8077427821522309 and parameters: {'lambda_l1': 0.0026989010276636254, 'labmbda_l2': 0.26926707157264185, 'num_leaves': 843, 'feature_fraction': 0.6768793708859235, 'bagging_fraction': 0.6486766521269193, 'bagging_freq': 3, 'min_child_samples': 97}. Best is trial 20 with value: 0.8143044619422573.\u001b[0m\n"
     ]
    },
    {
     "name": "stdout",
     "output_type": "stream",
     "text": [
      "[LightGBM] [Warning] bagging_fraction is set=0.7607677375616921, subsample=1.0 will be ignored. Current value: bagging_fraction=0.7607677375616921\n",
      "[LightGBM] [Warning] lambda_l2 is set=0.6418486710518131, reg_lambda=0.0 will be ignored. Current value: lambda_l2=0.6418486710518131\n",
      "[LightGBM] [Warning] lambda_l1 is set=0.00014050064941551054, reg_alpha=0.0 will be ignored. Current value: lambda_l1=0.00014050064941551054\n",
      "[LightGBM] [Warning] bagging_freq is set=2, subsample_freq=0 will be ignored. Current value: bagging_freq=2\n",
      "[LightGBM] [Warning] feature_fraction is set=0.5133533518062308, colsample_bytree=1.0 will be ignored. Current value: feature_fraction=0.5133533518062308\n"
     ]
    },
    {
     "name": "stderr",
     "output_type": "stream",
     "text": [
      "\u001b[32m[I 2022-04-19 22:56:39,634]\u001b[0m Trial 22 finished with value: 0.8031496062992126 and parameters: {'lambda_l1': 0.00014050064941551054, 'labmbda_l2': 0.6418486710518131, 'num_leaves': 989, 'feature_fraction': 0.5133533518062308, 'bagging_fraction': 0.7607677375616921, 'bagging_freq': 2, 'min_child_samples': 83}. Best is trial 20 with value: 0.8143044619422573.\u001b[0m\n",
      "\u001b[32m[I 2022-04-19 22:56:39,890]\u001b[0m Trial 23 finished with value: 0.812992125984252 and parameters: {'lambda_l1': 0.0069936420522097795, 'labmbda_l2': 0.08307515408330601, 'num_leaves': 868, 'feature_fraction': 0.6317630034359982, 'bagging_fraction': 0.5908436442505078, 'bagging_freq': 1, 'min_child_samples': 74}. Best is trial 20 with value: 0.8143044619422573.\u001b[0m\n"
     ]
    },
    {
     "name": "stdout",
     "output_type": "stream",
     "text": [
      "[LightGBM] [Warning] bagging_fraction is set=0.5908436442505078, subsample=1.0 will be ignored. Current value: bagging_fraction=0.5908436442505078\n",
      "[LightGBM] [Warning] lambda_l2 is set=0.08307515408330601, reg_lambda=0.0 will be ignored. Current value: lambda_l2=0.08307515408330601\n",
      "[LightGBM] [Warning] lambda_l1 is set=0.0069936420522097795, reg_alpha=0.0 will be ignored. Current value: lambda_l1=0.0069936420522097795\n",
      "[LightGBM] [Warning] bagging_freq is set=1, subsample_freq=0 will be ignored. Current value: bagging_freq=1\n",
      "[LightGBM] [Warning] feature_fraction is set=0.6317630034359982, colsample_bytree=1.0 will be ignored. Current value: feature_fraction=0.6317630034359982\n"
     ]
    },
    {
     "name": "stderr",
     "output_type": "stream",
     "text": [
      "\u001b[32m[I 2022-04-19 22:56:40,105]\u001b[0m Trial 24 finished with value: 0.8011811023622047 and parameters: {'lambda_l1': 0.009088192250714978, 'labmbda_l2': 9.743633328807153, 'num_leaves': 674, 'feature_fraction': 0.6429216329311445, 'bagging_fraction': 0.5750801870964609, 'bagging_freq': 3, 'min_child_samples': 92}. Best is trial 20 with value: 0.8143044619422573.\u001b[0m\n"
     ]
    },
    {
     "name": "stdout",
     "output_type": "stream",
     "text": [
      "[LightGBM] [Warning] bagging_fraction is set=0.5750801870964609, subsample=1.0 will be ignored. Current value: bagging_fraction=0.5750801870964609\n",
      "[LightGBM] [Warning] lambda_l2 is set=9.743633328807153, reg_lambda=0.0 will be ignored. Current value: lambda_l2=9.743633328807153\n",
      "[LightGBM] [Warning] lambda_l1 is set=0.009088192250714978, reg_alpha=0.0 will be ignored. Current value: lambda_l1=0.009088192250714978\n",
      "[LightGBM] [Warning] bagging_freq is set=3, subsample_freq=0 will be ignored. Current value: bagging_freq=3\n",
      "[LightGBM] [Warning] feature_fraction is set=0.6429216329311445, colsample_bytree=1.0 will be ignored. Current value: feature_fraction=0.6429216329311445\n"
     ]
    },
    {
     "name": "stderr",
     "output_type": "stream",
     "text": [
      "\u001b[32m[I 2022-04-19 22:56:40,311]\u001b[0m Trial 25 finished with value: 0.8064304461942258 and parameters: {'lambda_l1': 0.5934972626699402, 'labmbda_l2': 0.05787576784249817, 'num_leaves': 842, 'feature_fraction': 0.5963452023763429, 'bagging_fraction': 0.44891185642034626, 'bagging_freq': 2, 'min_child_samples': 99}. Best is trial 20 with value: 0.8143044619422573.\u001b[0m\n"
     ]
    },
    {
     "name": "stdout",
     "output_type": "stream",
     "text": [
      "[LightGBM] [Warning] bagging_fraction is set=0.44891185642034626, subsample=1.0 will be ignored. Current value: bagging_fraction=0.44891185642034626\n",
      "[LightGBM] [Warning] lambda_l2 is set=0.05787576784249817, reg_lambda=0.0 will be ignored. Current value: lambda_l2=0.05787576784249817\n",
      "[LightGBM] [Warning] lambda_l1 is set=0.5934972626699402, reg_alpha=0.0 will be ignored. Current value: lambda_l1=0.5934972626699402\n",
      "[LightGBM] [Warning] bagging_freq is set=2, subsample_freq=0 will be ignored. Current value: bagging_freq=2\n",
      "[LightGBM] [Warning] feature_fraction is set=0.5963452023763429, colsample_bytree=1.0 will be ignored. Current value: feature_fraction=0.5963452023763429\n"
     ]
    },
    {
     "name": "stderr",
     "output_type": "stream",
     "text": [
      "\u001b[32m[I 2022-04-19 22:56:40,495]\u001b[0m Trial 26 finished with value: 0.8031496062992126 and parameters: {'lambda_l1': 0.0010731168417346343, 'labmbda_l2': 0.15784572831933505, 'num_leaves': 607, 'feature_fraction': 0.7088580394468884, 'bagging_fraction': 0.23036544835296324, 'bagging_freq': 1, 'min_child_samples': 68}. Best is trial 20 with value: 0.8143044619422573.\u001b[0m\n"
     ]
    },
    {
     "name": "stdout",
     "output_type": "stream",
     "text": [
      "[LightGBM] [Warning] bagging_fraction is set=0.23036544835296324, subsample=1.0 will be ignored. Current value: bagging_fraction=0.23036544835296324\n",
      "[LightGBM] [Warning] lambda_l2 is set=0.15784572831933505, reg_lambda=0.0 will be ignored. Current value: lambda_l2=0.15784572831933505\n",
      "[LightGBM] [Warning] lambda_l1 is set=0.0010731168417346343, reg_alpha=0.0 will be ignored. Current value: lambda_l1=0.0010731168417346343\n",
      "[LightGBM] [Warning] bagging_freq is set=1, subsample_freq=0 will be ignored. Current value: bagging_freq=1\n",
      "[LightGBM] [Warning] feature_fraction is set=0.7088580394468884, colsample_bytree=1.0 will be ignored. Current value: feature_fraction=0.7088580394468884\n",
      "[LightGBM] [Warning] bagging_fraction is set=0.5321629787910789, subsample=1.0 will be ignored. Current value: bagging_fraction=0.5321629787910789\n",
      "[LightGBM] [Warning] lambda_l2 is set=0.6454700685264065, reg_lambda=0.0 will be ignored. Current value: lambda_l2=0.6454700685264065\n",
      "[LightGBM] [Warning] lambda_l1 is set=0.1319314401742615, reg_alpha=0.0 will be ignored. Current value: lambda_l1=0.1319314401742615\n",
      "[LightGBM] [Warning] bagging_freq is set=3, subsample_freq=0 will be ignored. Current value: bagging_freq=3\n",
      "[LightGBM] [Warning] feature_fraction is set=0.4882745492871411, colsample_bytree=1.0 will be ignored. Current value: feature_fraction=0.4882745492871411\n"
     ]
    },
    {
     "name": "stderr",
     "output_type": "stream",
     "text": [
      "\u001b[32m[I 2022-04-19 22:56:40,710]\u001b[0m Trial 27 finished with value: 0.8070866141732284 and parameters: {'lambda_l1': 0.1319314401742615, 'labmbda_l2': 0.6454700685264065, 'num_leaves': 455, 'feature_fraction': 0.4882745492871411, 'bagging_fraction': 0.5321629787910789, 'bagging_freq': 3, 'min_child_samples': 88}. Best is trial 20 with value: 0.8143044619422573.\u001b[0m\n"
     ]
    },
    {
     "name": "stdout",
     "output_type": "stream",
     "text": [
      "[LightGBM] [Warning] bagging_fraction is set=0.5749556181599137, subsample=1.0 will be ignored. Current value: bagging_fraction=0.5749556181599137\n",
      "[LightGBM] [Warning] lambda_l2 is set=0.006805805910587816, reg_lambda=0.0 will be ignored. Current value: lambda_l2=0.006805805910587816\n",
      "[LightGBM] [Warning] lambda_l1 is set=0.0009549737838076328, reg_alpha=0.0 will be ignored. Current value: lambda_l1=0.0009549737838076328\n",
      "[LightGBM] [Warning] bagging_freq is set=2, subsample_freq=0 will be ignored. Current value: bagging_freq=2\n",
      "[LightGBM] [Warning] feature_fraction is set=0.5607585016305776, colsample_bytree=1.0 will be ignored. Current value: feature_fraction=0.5607585016305776\n"
     ]
    },
    {
     "name": "stderr",
     "output_type": "stream",
     "text": [
      "\u001b[32m[I 2022-04-19 22:56:40,978]\u001b[0m Trial 28 finished with value: 0.8044619422572179 and parameters: {'lambda_l1': 0.0009549737838076328, 'labmbda_l2': 0.006805805910587816, 'num_leaves': 739, 'feature_fraction': 0.5607585016305776, 'bagging_fraction': 0.5749556181599137, 'bagging_freq': 2, 'min_child_samples': 72}. Best is trial 20 with value: 0.8143044619422573.\u001b[0m\n"
     ]
    },
    {
     "name": "stdout",
     "output_type": "stream",
     "text": [
      "[LightGBM] [Warning] bagging_fraction is set=0.4735112371216107, subsample=1.0 will be ignored. Current value: bagging_fraction=0.4735112371216107\n",
      "[LightGBM] [Warning] lambda_l2 is set=2.086004051209271, reg_lambda=0.0 will be ignored. Current value: lambda_l2=2.086004051209271\n",
      "[LightGBM] [Warning] lambda_l1 is set=0.005913741950692049, reg_alpha=0.0 will be ignored. Current value: lambda_l1=0.005913741950692049\n",
      "[LightGBM] [Warning] bagging_freq is set=2, subsample_freq=0 will be ignored. Current value: bagging_freq=2\n",
      "[LightGBM] [Warning] feature_fraction is set=0.7634310880874251, colsample_bytree=1.0 will be ignored. Current value: feature_fraction=0.7634310880874251\n"
     ]
    },
    {
     "name": "stderr",
     "output_type": "stream",
     "text": [
      "\u001b[32m[I 2022-04-19 22:56:41,256]\u001b[0m Trial 29 finished with value: 0.80249343832021 and parameters: {'lambda_l1': 0.005913741950692049, 'labmbda_l2': 2.086004051209271, 'num_leaves': 858, 'feature_fraction': 0.7634310880874251, 'bagging_fraction': 0.4735112371216107, 'bagging_freq': 2, 'min_child_samples': 50}. Best is trial 20 with value: 0.8143044619422573.\u001b[0m\n",
      "\u001b[32m[I 2022-04-19 22:56:41,473]\u001b[0m Trial 30 finished with value: 0.80249343832021 and parameters: {'lambda_l1': 0.03524950622753238, 'labmbda_l2': 0.0009137844686792795, 'num_leaves': 783, 'feature_fraction': 0.4005212667783315, 'bagging_fraction': 0.38518355295900575, 'bagging_freq': 1, 'min_child_samples': 61}. Best is trial 20 with value: 0.8143044619422573.\u001b[0m\n"
     ]
    },
    {
     "name": "stdout",
     "output_type": "stream",
     "text": [
      "[LightGBM] [Warning] bagging_fraction is set=0.38518355295900575, subsample=1.0 will be ignored. Current value: bagging_fraction=0.38518355295900575\n",
      "[LightGBM] [Warning] lambda_l2 is set=0.0009137844686792795, reg_lambda=0.0 will be ignored. Current value: lambda_l2=0.0009137844686792795\n",
      "[LightGBM] [Warning] lambda_l1 is set=0.03524950622753238, reg_alpha=0.0 will be ignored. Current value: lambda_l1=0.03524950622753238\n",
      "[LightGBM] [Warning] bagging_freq is set=1, subsample_freq=0 will be ignored. Current value: bagging_freq=1\n",
      "[LightGBM] [Warning] feature_fraction is set=0.4005212667783315, colsample_bytree=1.0 will be ignored. Current value: feature_fraction=0.4005212667783315\n",
      "[LightGBM] [Warning] bagging_fraction is set=0.6750036112805761, subsample=1.0 will be ignored. Current value: bagging_fraction=0.6750036112805761\n",
      "[LightGBM] [Warning] lambda_l2 is set=0.007509475542261164, reg_lambda=0.0 will be ignored. Current value: lambda_l2=0.007509475542261164\n",
      "[LightGBM] [Warning] lambda_l1 is set=2.1784441720825234e-05, reg_alpha=0.0 will be ignored. Current value: lambda_l1=2.1784441720825234e-05\n",
      "[LightGBM] [Warning] bagging_freq is set=1, subsample_freq=0 will be ignored. Current value: bagging_freq=1\n",
      "[LightGBM] [Warning] feature_fraction is set=0.8054085039880453, colsample_bytree=1.0 will be ignored. Current value: feature_fraction=0.8054085039880453\n"
     ]
    },
    {
     "name": "stderr",
     "output_type": "stream",
     "text": [
      "\u001b[32m[I 2022-04-19 22:56:41,751]\u001b[0m Trial 31 finished with value: 0.8064304461942258 and parameters: {'lambda_l1': 2.1784441720825234e-05, 'labmbda_l2': 0.007509475542261164, 'num_leaves': 974, 'feature_fraction': 0.8054085039880453, 'bagging_fraction': 0.6750036112805761, 'bagging_freq': 1, 'min_child_samples': 80}. Best is trial 20 with value: 0.8143044619422573.\u001b[0m\n"
     ]
    },
    {
     "name": "stdout",
     "output_type": "stream",
     "text": [
      "[LightGBM] [Warning] bagging_fraction is set=0.7575130308268965, subsample=1.0 will be ignored. Current value: bagging_fraction=0.7575130308268965\n",
      "[LightGBM] [Warning] lambda_l2 is set=0.0669417869865391, reg_lambda=0.0 will be ignored. Current value: lambda_l2=0.0669417869865391\n",
      "[LightGBM] [Warning] lambda_l1 is set=0.00017020484822047888, reg_alpha=0.0 will be ignored. Current value: lambda_l1=0.00017020484822047888\n",
      "[LightGBM] [Warning] bagging_freq is set=1, subsample_freq=0 will be ignored. Current value: bagging_freq=1\n",
      "[LightGBM] [Warning] feature_fraction is set=0.7295902092193935, colsample_bytree=1.0 will be ignored. Current value: feature_fraction=0.7295902092193935\n"
     ]
    },
    {
     "name": "stderr",
     "output_type": "stream",
     "text": [
      "\u001b[32m[I 2022-04-19 22:56:42,052]\u001b[0m Trial 32 finished with value: 0.8018372703412073 and parameters: {'lambda_l1': 0.00017020484822047888, 'labmbda_l2': 0.0669417869865391, 'num_leaves': 909, 'feature_fraction': 0.7295902092193935, 'bagging_fraction': 0.7575130308268965, 'bagging_freq': 1, 'min_child_samples': 77}. Best is trial 20 with value: 0.8143044619422573.\u001b[0m\n"
     ]
    },
    {
     "name": "stdout",
     "output_type": "stream",
     "text": [
      "[LightGBM] [Warning] bagging_fraction is set=0.8438692926879438, subsample=1.0 will be ignored. Current value: bagging_fraction=0.8438692926879438\n",
      "[LightGBM] [Warning] lambda_l2 is set=0.012320398402941071, reg_lambda=0.0 will be ignored. Current value: lambda_l2=0.012320398402941071\n",
      "[LightGBM] [Warning] lambda_l1 is set=0.00043539218364795583, reg_alpha=0.0 will be ignored. Current value: lambda_l1=0.00043539218364795583\n",
      "[LightGBM] [Warning] bagging_freq is set=2, subsample_freq=0 will be ignored. Current value: bagging_freq=2\n",
      "[LightGBM] [Warning] feature_fraction is set=0.8986368306670474, colsample_bytree=1.0 will be ignored. Current value: feature_fraction=0.8986368306670474\n"
     ]
    },
    {
     "name": "stderr",
     "output_type": "stream",
     "text": [
      "\u001b[32m[I 2022-04-19 22:56:42,391]\u001b[0m Trial 33 finished with value: 0.8057742782152231 and parameters: {'lambda_l1': 0.00043539218364795583, 'labmbda_l2': 0.012320398402941071, 'num_leaves': 862, 'feature_fraction': 0.8986368306670474, 'bagging_fraction': 0.8438692926879438, 'bagging_freq': 2, 'min_child_samples': 87}. Best is trial 20 with value: 0.8143044619422573.\u001b[0m\n",
      "\u001b[32m[I 2022-04-19 22:56:42,582]\u001b[0m Trial 34 finished with value: 0.786745406824147 and parameters: {'lambda_l1': 1.202675085000816e-06, 'labmbda_l2': 0.0016777797046275973, 'num_leaves': 990, 'feature_fraction': 0.13775845463303404, 'bagging_fraction': 0.702185836826068, 'bagging_freq': 3, 'min_child_samples': 56}. Best is trial 20 with value: 0.8143044619422573.\u001b[0m\n"
     ]
    },
    {
     "name": "stdout",
     "output_type": "stream",
     "text": [
      "[LightGBM] [Warning] bagging_fraction is set=0.702185836826068, subsample=1.0 will be ignored. Current value: bagging_fraction=0.702185836826068\n",
      "[LightGBM] [Warning] lambda_l2 is set=0.0016777797046275973, reg_lambda=0.0 will be ignored. Current value: lambda_l2=0.0016777797046275973\n",
      "[LightGBM] [Warning] lambda_l1 is set=1.202675085000816e-06, reg_alpha=0.0 will be ignored. Current value: lambda_l1=1.202675085000816e-06\n",
      "[LightGBM] [Warning] bagging_freq is set=3, subsample_freq=0 will be ignored. Current value: bagging_freq=3\n",
      "[LightGBM] [Warning] feature_fraction is set=0.13775845463303404, colsample_bytree=1.0 will be ignored. Current value: feature_fraction=0.13775845463303404\n",
      "[LightGBM] [Warning] bagging_fraction is set=0.6101749741714291, subsample=1.0 will be ignored. Current value: bagging_fraction=0.6101749741714291\n",
      "[LightGBM] [Warning] lambda_l2 is set=0.0004861813673577411, reg_lambda=0.0 will be ignored. Current value: lambda_l2=0.0004861813673577411\n",
      "[LightGBM] [Warning] lambda_l1 is set=3.3811181304951106e-05, reg_alpha=0.0 will be ignored. Current value: lambda_l1=3.3811181304951106e-05\n",
      "[LightGBM] [Warning] bagging_freq is set=1, subsample_freq=0 will be ignored. Current value: bagging_freq=1\n",
      "[LightGBM] [Warning] feature_fraction is set=0.6151617574264879, colsample_bytree=1.0 will be ignored. Current value: feature_fraction=0.6151617574264879\n"
     ]
    },
    {
     "name": "stderr",
     "output_type": "stream",
     "text": [
      "\u001b[32m[I 2022-04-19 22:56:42,829]\u001b[0m Trial 35 finished with value: 0.8018372703412073 and parameters: {'lambda_l1': 3.3811181304951106e-05, 'labmbda_l2': 0.0004861813673577411, 'num_leaves': 218, 'feature_fraction': 0.6151617574264879, 'bagging_fraction': 0.6101749741714291, 'bagging_freq': 1, 'min_child_samples': 73}. Best is trial 20 with value: 0.8143044619422573.\u001b[0m\n",
      "\u001b[32m[I 2022-04-19 22:56:43,054]\u001b[0m Trial 36 finished with value: 0.8044619422572179 and parameters: {'lambda_l1': 0.012049895474890446, 'labmbda_l2': 0.10349329914474116, 'num_leaves': 715, 'feature_fraction': 0.6929660264410002, 'bagging_fraction': 0.5166321971080784, 'bagging_freq': 1, 'min_child_samples': 94}. Best is trial 20 with value: 0.8143044619422573.\u001b[0m\n"
     ]
    },
    {
     "name": "stdout",
     "output_type": "stream",
     "text": [
      "[LightGBM] [Warning] bagging_fraction is set=0.5166321971080784, subsample=1.0 will be ignored. Current value: bagging_fraction=0.5166321971080784\n",
      "[LightGBM] [Warning] lambda_l2 is set=0.10349329914474116, reg_lambda=0.0 will be ignored. Current value: lambda_l2=0.10349329914474116\n",
      "[LightGBM] [Warning] lambda_l1 is set=0.012049895474890446, reg_alpha=0.0 will be ignored. Current value: lambda_l1=0.012049895474890446\n",
      "[LightGBM] [Warning] bagging_freq is set=1, subsample_freq=0 will be ignored. Current value: bagging_freq=1\n",
      "[LightGBM] [Warning] feature_fraction is set=0.6929660264410002, colsample_bytree=1.0 will be ignored. Current value: feature_fraction=0.6929660264410002\n",
      "[LightGBM] [Warning] bagging_fraction is set=0.8798841854377366, subsample=1.0 will be ignored. Current value: bagging_fraction=0.8798841854377366\n",
      "[LightGBM] [Warning] lambda_l2 is set=0.00021627540672102447, reg_lambda=0.0 will be ignored. Current value: lambda_l2=0.00021627540672102447\n",
      "[LightGBM] [Warning] lambda_l1 is set=0.002489590263792125, reg_alpha=0.0 will be ignored. Current value: lambda_l1=0.002489590263792125\n",
      "[LightGBM] [Warning] bagging_freq is set=2, subsample_freq=0 will be ignored. Current value: bagging_freq=2\n",
      "[LightGBM] [Warning] feature_fraction is set=0.5345792351388466, colsample_bytree=1.0 will be ignored. Current value: feature_fraction=0.5345792351388466\n"
     ]
    },
    {
     "name": "stderr",
     "output_type": "stream",
     "text": [
      "\u001b[32m[I 2022-04-19 22:56:43,410]\u001b[0m Trial 37 finished with value: 0.8031496062992126 and parameters: {'lambda_l1': 0.002489590263792125, 'labmbda_l2': 0.00021627540672102447, 'num_leaves': 926, 'feature_fraction': 0.5345792351388466, 'bagging_fraction': 0.8798841854377366, 'bagging_freq': 2, 'min_child_samples': 67}. Best is trial 20 with value: 0.8143044619422573.\u001b[0m\n"
     ]
    },
    {
     "name": "stdout",
     "output_type": "stream",
     "text": [
      "[LightGBM] [Warning] bagging_fraction is set=0.6545623328084216, subsample=1.0 will be ignored. Current value: bagging_fraction=0.6545623328084216\n",
      "[LightGBM] [Warning] lambda_l2 is set=0.017478997957604093, reg_lambda=0.0 will be ignored. Current value: lambda_l2=0.017478997957604093\n",
      "[LightGBM] [Warning] lambda_l1 is set=0.07722241119272837, reg_alpha=0.0 will be ignored. Current value: lambda_l1=0.07722241119272837\n",
      "[LightGBM] [Warning] bagging_freq is set=3, subsample_freq=0 will be ignored. Current value: bagging_freq=3\n",
      "[LightGBM] [Warning] feature_fraction is set=0.8642872800863134, colsample_bytree=1.0 will be ignored. Current value: feature_fraction=0.8642872800863134\n"
     ]
    },
    {
     "name": "stderr",
     "output_type": "stream",
     "text": [
      "\u001b[32m[I 2022-04-19 22:56:43,709]\u001b[0m Trial 38 finished with value: 0.8038057742782152 and parameters: {'lambda_l1': 0.07722241119272837, 'labmbda_l2': 0.017478997957604093, 'num_leaves': 879, 'feature_fraction': 0.8642872800863134, 'bagging_fraction': 0.6545623328084216, 'bagging_freq': 3, 'min_child_samples': 77}. Best is trial 20 with value: 0.8143044619422573.\u001b[0m\n",
      "\u001b[32m[I 2022-04-19 22:56:43,932]\u001b[0m Trial 39 finished with value: 0.8077427821522309 and parameters: {'lambda_l1': 3.629150606910868e-06, 'labmbda_l2': 9.765878800095054e-06, 'num_leaves': 23, 'feature_fraction': 0.7439193781269465, 'bagging_fraction': 0.7808775575283186, 'bagging_freq': 5, 'min_child_samples': 100}. Best is trial 20 with value: 0.8143044619422573.\u001b[0m\n"
     ]
    },
    {
     "name": "stdout",
     "output_type": "stream",
     "text": [
      "[LightGBM] [Warning] bagging_fraction is set=0.7808775575283186, subsample=1.0 will be ignored. Current value: bagging_fraction=0.7808775575283186\n",
      "[LightGBM] [Warning] lambda_l2 is set=9.765878800095054e-06, reg_lambda=0.0 will be ignored. Current value: lambda_l2=9.765878800095054e-06\n",
      "[LightGBM] [Warning] lambda_l1 is set=3.629150606910868e-06, reg_alpha=0.0 will be ignored. Current value: lambda_l1=3.629150606910868e-06\n",
      "[LightGBM] [Warning] bagging_freq is set=5, subsample_freq=0 will be ignored. Current value: bagging_freq=5\n",
      "[LightGBM] [Warning] feature_fraction is set=0.7439193781269465, colsample_bytree=1.0 will be ignored. Current value: feature_fraction=0.7439193781269465\n",
      "[LightGBM] [Warning] bagging_fraction is set=0.8934233847744207, subsample=1.0 will be ignored. Current value: bagging_fraction=0.8934233847744207\n",
      "[LightGBM] [Warning] lambda_l2 is set=0.6125301185064492, reg_lambda=0.0 will be ignored. Current value: lambda_l2=0.6125301185064492\n",
      "[LightGBM] [Warning] lambda_l1 is set=0.9111228918150981, reg_alpha=0.0 will be ignored. Current value: lambda_l1=0.9111228918150981\n",
      "[LightGBM] [Warning] bagging_freq is set=1, subsample_freq=0 will be ignored. Current value: bagging_freq=1\n",
      "[LightGBM] [Warning] feature_fraction is set=0.8054357176859681, colsample_bytree=1.0 will be ignored. Current value: feature_fraction=0.8054357176859681\n"
     ]
    },
    {
     "name": "stderr",
     "output_type": "stream",
     "text": [
      "\u001b[32m[I 2022-04-19 22:56:44,211]\u001b[0m Trial 40 finished with value: 0.8070866141732284 and parameters: {'lambda_l1': 0.9111228918150981, 'labmbda_l2': 0.6125301185064492, 'num_leaves': 610, 'feature_fraction': 0.8054357176859681, 'bagging_fraction': 0.8934233847744207, 'bagging_freq': 1, 'min_child_samples': 86}. Best is trial 20 with value: 0.8143044619422573.\u001b[0m\n"
     ]
    },
    {
     "name": "stdout",
     "output_type": "stream",
     "text": [
      "[LightGBM] [Warning] bagging_fraction is set=0.7199667629894351, subsample=1.0 will be ignored. Current value: bagging_fraction=0.7199667629894351\n",
      "[LightGBM] [Warning] lambda_l2 is set=0.00014390655934725497, reg_lambda=0.0 will be ignored. Current value: lambda_l2=0.00014390655934725497\n",
      "[LightGBM] [Warning] lambda_l1 is set=0.0013031231372209859, reg_alpha=0.0 will be ignored. Current value: lambda_l1=0.0013031231372209859\n",
      "[LightGBM] [Warning] bagging_freq is set=6, subsample_freq=0 will be ignored. Current value: bagging_freq=6\n",
      "[LightGBM] [Warning] feature_fraction is set=0.6358405377340475, colsample_bytree=1.0 will be ignored. Current value: feature_fraction=0.6358405377340475\n"
     ]
    },
    {
     "name": "stderr",
     "output_type": "stream",
     "text": [
      "\u001b[32m[I 2022-04-19 22:56:44,485]\u001b[0m Trial 41 finished with value: 0.8044619422572179 and parameters: {'lambda_l1': 0.0013031231372209859, 'labmbda_l2': 0.00014390655934725497, 'num_leaves': 335, 'feature_fraction': 0.6358405377340475, 'bagging_fraction': 0.7199667629894351, 'bagging_freq': 6, 'min_child_samples': 81}. Best is trial 20 with value: 0.8143044619422573.\u001b[0m\n"
     ]
    },
    {
     "name": "stdout",
     "output_type": "stream",
     "text": [
      "[LightGBM] [Warning] bagging_fraction is set=0.9765301269970189, subsample=1.0 will be ignored. Current value: bagging_fraction=0.9765301269970189\n",
      "[LightGBM] [Warning] lambda_l2 is set=1.462456882569959e-05, reg_lambda=0.0 will be ignored. Current value: lambda_l2=1.462456882569959e-05\n",
      "[LightGBM] [Warning] lambda_l1 is set=0.0001143251329961022, reg_alpha=0.0 will be ignored. Current value: lambda_l1=0.0001143251329961022\n",
      "[LightGBM] [Warning] bagging_freq is set=7, subsample_freq=0 will be ignored. Current value: bagging_freq=7\n",
      "[LightGBM] [Warning] feature_fraction is set=0.5726504531459766, colsample_bytree=1.0 will be ignored. Current value: feature_fraction=0.5726504531459766\n"
     ]
    },
    {
     "name": "stderr",
     "output_type": "stream",
     "text": [
      "\u001b[32m[I 2022-04-19 22:56:44,806]\u001b[0m Trial 42 finished with value: 0.8038057742782152 and parameters: {'lambda_l1': 0.0001143251329961022, 'labmbda_l2': 1.462456882569959e-05, 'num_leaves': 392, 'feature_fraction': 0.5726504531459766, 'bagging_fraction': 0.9765301269970189, 'bagging_freq': 7, 'min_child_samples': 92}. Best is trial 20 with value: 0.8143044619422573.\u001b[0m\n"
     ]
    },
    {
     "name": "stdout",
     "output_type": "stream",
     "text": [
      "[LightGBM] [Warning] bagging_fraction is set=0.7329604666267081, subsample=1.0 will be ignored. Current value: bagging_fraction=0.7329604666267081\n",
      "[LightGBM] [Warning] lambda_l2 is set=2.994646171448817e-05, reg_lambda=0.0 will be ignored. Current value: lambda_l2=2.994646171448817e-05\n",
      "[LightGBM] [Warning] lambda_l1 is set=0.02295939312567496, reg_alpha=0.0 will be ignored. Current value: lambda_l1=0.02295939312567496\n",
      "[LightGBM] [Warning] bagging_freq is set=5, subsample_freq=0 will be ignored. Current value: bagging_freq=5\n",
      "[LightGBM] [Warning] feature_fraction is set=0.7629230318868554, colsample_bytree=1.0 will be ignored. Current value: feature_fraction=0.7629230318868554\n"
     ]
    },
    {
     "name": "stderr",
     "output_type": "stream",
     "text": [
      "\u001b[32m[I 2022-04-19 22:56:45,162]\u001b[0m Trial 43 finished with value: 0.8011811023622047 and parameters: {'lambda_l1': 0.02295939312567496, 'labmbda_l2': 2.994646171448817e-05, 'num_leaves': 219, 'feature_fraction': 0.7629230318868554, 'bagging_fraction': 0.7329604666267081, 'bagging_freq': 5, 'min_child_samples': 69}. Best is trial 20 with value: 0.8143044619422573.\u001b[0m\n"
     ]
    },
    {
     "name": "stdout",
     "output_type": "stream",
     "text": [
      "[LightGBM] [Warning] bagging_fraction is set=0.6162102369169687, subsample=1.0 will be ignored. Current value: bagging_fraction=0.6162102369169687\n",
      "[LightGBM] [Warning] lambda_l2 is set=6.250060014877572e-05, reg_lambda=0.0 will be ignored. Current value: lambda_l2=6.250060014877572e-05\n",
      "[LightGBM] [Warning] lambda_l1 is set=1.811409323253803e-05, reg_alpha=0.0 will be ignored. Current value: lambda_l1=1.811409323253803e-05\n",
      "[LightGBM] [Warning] bagging_freq is set=6, subsample_freq=0 will be ignored. Current value: bagging_freq=6\n",
      "[LightGBM] [Warning] feature_fraction is set=0.6793008878933356, colsample_bytree=1.0 will be ignored. Current value: feature_fraction=0.6793008878933356\n"
     ]
    },
    {
     "name": "stderr",
     "output_type": "stream",
     "text": [
      "\u001b[32m[I 2022-04-19 22:56:45,439]\u001b[0m Trial 44 finished with value: 0.8103674540682415 and parameters: {'lambda_l1': 1.811409323253803e-05, 'labmbda_l2': 6.250060014877572e-05, 'num_leaves': 507, 'feature_fraction': 0.6793008878933356, 'bagging_fraction': 0.6162102369169687, 'bagging_freq': 6, 'min_child_samples': 76}. Best is trial 20 with value: 0.8143044619422573.\u001b[0m\n"
     ]
    },
    {
     "name": "stdout",
     "output_type": "stream",
     "text": [
      "[LightGBM] [Warning] bagging_fraction is set=0.563158322107418, subsample=1.0 will be ignored. Current value: bagging_fraction=0.563158322107418\n",
      "[LightGBM] [Warning] lambda_l2 is set=3.209449251368194e-06, reg_lambda=0.0 will be ignored. Current value: lambda_l2=3.209449251368194e-06\n",
      "[LightGBM] [Warning] lambda_l1 is set=1.804414702290857e-05, reg_alpha=0.0 will be ignored. Current value: lambda_l1=1.804414702290857e-05\n",
      "[LightGBM] [Warning] bagging_freq is set=4, subsample_freq=0 will be ignored. Current value: bagging_freq=4\n",
      "[LightGBM] [Warning] feature_fraction is set=0.6759722107684553, colsample_bytree=1.0 will be ignored. Current value: feature_fraction=0.6759722107684553\n"
     ]
    },
    {
     "name": "stderr",
     "output_type": "stream",
     "text": [
      "\u001b[32m[I 2022-04-19 22:56:45,704]\u001b[0m Trial 45 finished with value: 0.812992125984252 and parameters: {'lambda_l1': 1.804414702290857e-05, 'labmbda_l2': 3.209449251368194e-06, 'num_leaves': 943, 'feature_fraction': 0.6759722107684553, 'bagging_fraction': 0.563158322107418, 'bagging_freq': 4, 'min_child_samples': 76}. Best is trial 20 with value: 0.8143044619422573.\u001b[0m\n"
     ]
    },
    {
     "name": "stdout",
     "output_type": "stream",
     "text": [
      "[LightGBM] [Warning] bagging_fraction is set=0.5678910023484345, subsample=1.0 will be ignored. Current value: bagging_fraction=0.5678910023484345\n",
      "[LightGBM] [Warning] lambda_l2 is set=2.345121031635334e-06, reg_lambda=0.0 will be ignored. Current value: lambda_l2=2.345121031635334e-06\n",
      "[LightGBM] [Warning] lambda_l1 is set=1.3824848560496204e-05, reg_alpha=0.0 will be ignored. Current value: lambda_l1=1.3824848560496204e-05\n",
      "[LightGBM] [Warning] bagging_freq is set=4, subsample_freq=0 will be ignored. Current value: bagging_freq=4\n",
      "[LightGBM] [Warning] feature_fraction is set=0.6758150407043955, colsample_bytree=1.0 will be ignored. Current value: feature_fraction=0.6758150407043955\n"
     ]
    },
    {
     "name": "stderr",
     "output_type": "stream",
     "text": [
      "\u001b[32m[I 2022-04-19 22:56:46,018]\u001b[0m Trial 46 finished with value: 0.8018372703412073 and parameters: {'lambda_l1': 1.3824848560496204e-05, 'labmbda_l2': 2.345121031635334e-06, 'num_leaves': 943, 'feature_fraction': 0.6758150407043955, 'bagging_fraction': 0.5678910023484345, 'bagging_freq': 4, 'min_child_samples': 57}. Best is trial 20 with value: 0.8143044619422573.\u001b[0m\n"
     ]
    },
    {
     "name": "stdout",
     "output_type": "stream",
     "text": [
      "[LightGBM] [Warning] bagging_fraction is set=0.6143076962100199, subsample=1.0 will be ignored. Current value: bagging_fraction=0.6143076962100199\n",
      "[LightGBM] [Warning] lambda_l2 is set=7.90062506010367e-07, reg_lambda=0.0 will be ignored. Current value: lambda_l2=7.90062506010367e-07\n",
      "[LightGBM] [Warning] lambda_l1 is set=2.1989055785208081e-07, reg_alpha=0.0 will be ignored. Current value: lambda_l1=2.1989055785208081e-07\n",
      "[LightGBM] [Warning] bagging_freq is set=4, subsample_freq=0 will be ignored. Current value: bagging_freq=4\n",
      "[LightGBM] [Warning] feature_fraction is set=0.585485158645008, colsample_bytree=1.0 will be ignored. Current value: feature_fraction=0.585485158645008\n"
     ]
    },
    {
     "name": "stderr",
     "output_type": "stream",
     "text": [
      "\u001b[32m[I 2022-04-19 22:56:46,293]\u001b[0m Trial 47 finished with value: 0.8018372703412073 and parameters: {'lambda_l1': 2.1989055785208081e-07, 'labmbda_l2': 7.90062506010367e-07, 'num_leaves': 815, 'feature_fraction': 0.585485158645008, 'bagging_fraction': 0.6143076962100199, 'bagging_freq': 4, 'min_child_samples': 74}. Best is trial 20 with value: 0.8143044619422573.\u001b[0m\n",
      "\u001b[32m[I 2022-04-19 22:56:46,471]\u001b[0m Trial 48 finished with value: 0.7992125984251969 and parameters: {'lambda_l1': 3.206981575585748e-06, 'labmbda_l2': 5.639940956743877e-08, 'num_leaves': 494, 'feature_fraction': 0.20733257657078624, 'bagging_fraction': 0.5163617864684612, 'bagging_freq': 4, 'min_child_samples': 85}. Best is trial 20 with value: 0.8143044619422573.\u001b[0m\n"
     ]
    },
    {
     "name": "stdout",
     "output_type": "stream",
     "text": [
      "[LightGBM] [Warning] bagging_fraction is set=0.5163617864684612, subsample=1.0 will be ignored. Current value: bagging_fraction=0.5163617864684612\n",
      "[LightGBM] [Warning] lambda_l2 is set=5.639940956743877e-08, reg_lambda=0.0 will be ignored. Current value: lambda_l2=5.639940956743877e-08\n",
      "[LightGBM] [Warning] lambda_l1 is set=3.206981575585748e-06, reg_alpha=0.0 will be ignored. Current value: lambda_l1=3.206981575585748e-06\n",
      "[LightGBM] [Warning] bagging_freq is set=4, subsample_freq=0 will be ignored. Current value: bagging_freq=4\n",
      "[LightGBM] [Warning] feature_fraction is set=0.20733257657078624, colsample_bytree=1.0 will be ignored. Current value: feature_fraction=0.20733257657078624\n",
      "[LightGBM] [Warning] bagging_fraction is set=0.479291370151563, subsample=1.0 will be ignored. Current value: bagging_fraction=0.479291370151563\n",
      "[LightGBM] [Warning] lambda_l2 is set=2.8249406142354306e-05, reg_lambda=0.0 will be ignored. Current value: lambda_l2=2.8249406142354306e-05\n",
      "[LightGBM] [Warning] lambda_l1 is set=0.0004622526308426813, reg_alpha=0.0 will be ignored. Current value: lambda_l1=0.0004622526308426813\n",
      "[LightGBM] [Warning] bagging_freq is set=4, subsample_freq=0 will be ignored. Current value: bagging_freq=4\n",
      "[LightGBM] [Warning] feature_fraction is set=0.6339440589522435, colsample_bytree=1.0 will be ignored. Current value: feature_fraction=0.6339440589522435\n"
     ]
    },
    {
     "name": "stderr",
     "output_type": "stream",
     "text": [
      "\u001b[32m[I 2022-04-19 22:56:46,786]\u001b[0m Trial 49 finished with value: 0.8070866141732284 and parameters: {'lambda_l1': 0.0004622526308426813, 'labmbda_l2': 2.8249406142354306e-05, 'num_leaves': 762, 'feature_fraction': 0.6339440589522435, 'bagging_fraction': 0.479291370151563, 'bagging_freq': 4, 'min_child_samples': 46}. Best is trial 20 with value: 0.8143044619422573.\u001b[0m\n"
     ]
    },
    {
     "name": "stdout",
     "output_type": "stream",
     "text": [
      "FrozenTrial(number=20, values=[0.8143044619422573], datetime_start=datetime.datetime(2022, 4, 19, 22, 56, 38, 59428), datetime_complete=datetime.datetime(2022, 4, 19, 22, 56, 38, 328191), params={'lambda_l1': 0.0026500733303575713, 'labmbda_l2': 0.3625714524939718, 'num_leaves': 848, 'feature_fraction': 0.6687592962046691, 'bagging_fraction': 0.6341335968313042, 'bagging_freq': 3, 'min_child_samples': 100}, distributions={'lambda_l1': LogUniformDistribution(high=10.0, low=1e-08), 'labmbda_l2': LogUniformDistribution(high=10.0, low=1e-08), 'num_leaves': IntUniformDistribution(high=1000, low=10, step=1), 'feature_fraction': UniformDistribution(high=1.0, low=0.1), 'bagging_fraction': UniformDistribution(high=1.0, low=0.1), 'bagging_freq': IntUniformDistribution(high=7, low=1, step=1), 'min_child_samples': IntUniformDistribution(high=100, low=5, step=1)}, user_attrs={}, system_attrs={}, intermediate_values={}, trial_id=20, state=TrialState.COMPLETE, value=None)\n"
     ]
    }
   ],
   "source": [
    "def objective(trial):\n",
    "    \n",
    "    x = df_train.drop('Transported', axis=1)\n",
    "    y = df_train.Transported\n",
    "    \n",
    "    X_train, X_valid, y_train, y_valid = train_test_split(x, y, test_size=0.2, random_state=7)\n",
    "    \n",
    "    d_train = lgb.Dataset(X_train, label=y_train)\n",
    "    \n",
    "    param = {\n",
    "        'objective': 'binary',\n",
    "        'metric': 'binary_logloss',\n",
    "        'verbosity': -1, \n",
    "        'boosting_type': 'gbdt',\n",
    "        'lambda_l1': trial.suggest_float('lambda_l1', 1e-8, 10, log=True),\n",
    "        'lambda_l2': trial.suggest_float('labmbda_l2', 1e-8, 10, log=True),\n",
    "        'num_leaves': trial.suggest_int('num_leaves', 10, 1000),\n",
    "        'feature_fraction': trial.suggest_float('feature_fraction', 0.1, 1),\n",
    "        'bagging_fraction': trial.suggest_float('bagging_fraction', 0.1, 1),\n",
    "        'bagging_freq':  trial.suggest_int(\"bagging_freq\", 1, 7),\n",
    "        'min_child_samples': trial.suggest_int('min_child_samples', 5, 100)\n",
    "    }\n",
    "    \n",
    "    gbm = lgb.LGBMClassifier(**param)\n",
    "    gbm.fit(X_train, y_train)\n",
    "    \n",
    "    predictions = gbm.predict(X_valid)\n",
    "    accuracy = metrics.accuracy_score(y_valid, predictions)\n",
    "    \n",
    "    return accuracy\n",
    "\n",
    "study = optuna.create_study(direction=\"maximize\")\n",
    "study.optimize(objective, n_trials=50)\n",
    "print(study.best_trial)\n",
    "best_params = study.best_params"
   ]
  },
  {
   "cell_type": "markdown",
   "id": "bab30bbc",
   "metadata": {
    "papermill": {
     "duration": 0.104095,
     "end_time": "2022-04-19T22:56:47.010052",
     "exception": false,
     "start_time": "2022-04-19T22:56:46.905957",
     "status": "completed"
    },
    "tags": []
   },
   "source": [
    "The *lightGBM* model runs a lot faster, so much so that I chose to do 50 trials and it ran quite quickly. From the printout, we can see that our best results came in at **0.8103** which is great!"
   ]
  },
  {
   "cell_type": "markdown",
   "id": "83feec42",
   "metadata": {
    "papermill": {
     "duration": 0.100498,
     "end_time": "2022-04-19T22:56:47.211709",
     "exception": false,
     "start_time": "2022-04-19T22:56:47.111211",
     "status": "completed"
    },
    "tags": []
   },
   "source": [
    "## Modeling - Test"
   ]
  },
  {
   "cell_type": "code",
   "execution_count": 26,
   "id": "b2dc2ac1",
   "metadata": {
    "execution": {
     "iopub.execute_input": "2022-04-19T22:56:47.414784Z",
     "iopub.status.busy": "2022-04-19T22:56:47.414035Z",
     "iopub.status.idle": "2022-04-19T22:56:47.489141Z",
     "shell.execute_reply": "2022-04-19T22:56:47.488374Z",
     "shell.execute_reply.started": "2022-04-19T22:52:05.374953Z"
    },
    "papermill": {
     "duration": 0.177049,
     "end_time": "2022-04-19T22:56:47.489307",
     "exception": false,
     "start_time": "2022-04-19T22:56:47.312258",
     "status": "completed"
    },
    "tags": []
   },
   "outputs": [],
   "source": [
    "# Read and prepare data\n",
    "test = pd.read_csv('../input/spaceship-titanic/test.csv')\n",
    "df_test = test.copy()\n",
    "df_test.head()\n",
    "\n",
    "# Adding columns\n",
    "df_test['Side'] = df_test['Cabin'].str[-1]\n",
    "df_test['Deck'] = df_test['Cabin'].str[0]\n",
    "df_test['Spend'] = df_test[['RoomService','FoodCourt', 'ShoppingMall', 'Spa', 'VRDeck']].sum(axis=1) != 0\n",
    "\n",
    "# Dropping the columns we no longer need\n",
    "df_test = df_test.drop(['Cabin', 'Name'], axis=1)\n",
    "\n",
    "# Mapping the T/F columns to 1/0s\n",
    "train[['CryoSleep', 'VIP']] = train[['CryoSleep', 'VIP']].astype(bool)\n",
    "\n",
    "# Encoding the nominal data\n",
    "encoder = OneHotEncoder()\n",
    "arr = encoder.fit_transform(df_test[['HomePlanet', 'Destination', 'Side', 'Deck']]).toarray()\n",
    "encoded_df = pd.DataFrame(data=arr, columns=encoder.get_feature_names_out())\n",
    "\n",
    "# Creating final dataframe\n",
    "df_test = pd.concat([df_test, encoded_df],axis=1).drop(['HomePlanet', 'Destination', 'Side', 'Deck'], axis=1)\n",
    "\n",
    "df_test = df_test.fillna(method='backfill')\n",
    "\n",
    "labels = df_test.PassengerId\n",
    "\n",
    "df_test = df_test.drop('PassengerId', axis=1)"
   ]
  },
  {
   "cell_type": "code",
   "execution_count": 27,
   "id": "6756af54",
   "metadata": {
    "execution": {
     "iopub.execute_input": "2022-04-19T22:56:47.698685Z",
     "iopub.status.busy": "2022-04-19T22:56:47.697276Z",
     "iopub.status.idle": "2022-04-19T22:56:47.978623Z",
     "shell.execute_reply": "2022-04-19T22:56:47.977941Z",
     "shell.execute_reply.started": "2022-04-19T22:52:06.330378Z"
    },
    "papermill": {
     "duration": 0.389352,
     "end_time": "2022-04-19T22:56:47.978791",
     "exception": false,
     "start_time": "2022-04-19T22:56:47.589439",
     "status": "completed"
    },
    "tags": []
   },
   "outputs": [
    {
     "name": "stdout",
     "output_type": "stream",
     "text": [
      "[LightGBM] [Warning] Unknown parameter: labmbda_l2\n",
      "[LightGBM] [Warning] lambda_l1 is set=0.0026500733303575713, reg_alpha=0.0 will be ignored. Current value: lambda_l1=0.0026500733303575713\n",
      "[LightGBM] [Warning] feature_fraction is set=0.6687592962046691, colsample_bytree=1.0 will be ignored. Current value: feature_fraction=0.6687592962046691\n",
      "[LightGBM] [Warning] bagging_freq is set=3, subsample_freq=0 will be ignored. Current value: bagging_freq=3\n",
      "[LightGBM] [Warning] bagging_fraction is set=0.6341335968313042, subsample=1.0 will be ignored. Current value: bagging_fraction=0.6341335968313042\n"
     ]
    }
   ],
   "source": [
    "model = lgb.LGBMClassifier(**best_params)\n",
    "model.fit(df_train.drop('Transported', axis=1), df_train.Transported)\n",
    "predictions = model.predict(df_test)"
   ]
  },
  {
   "cell_type": "code",
   "execution_count": 28,
   "id": "ccfc143b",
   "metadata": {
    "execution": {
     "iopub.execute_input": "2022-04-19T22:56:48.190420Z",
     "iopub.status.busy": "2022-04-19T22:56:48.189416Z",
     "iopub.status.idle": "2022-04-19T22:56:48.192267Z",
     "shell.execute_reply": "2022-04-19T22:56:48.191659Z",
     "shell.execute_reply.started": "2022-04-19T22:52:45.604173Z"
    },
    "papermill": {
     "duration": 0.111403,
     "end_time": "2022-04-19T22:56:48.192404",
     "exception": false,
     "start_time": "2022-04-19T22:56:48.081001",
     "status": "completed"
    },
    "tags": []
   },
   "outputs": [],
   "source": [
    "final_df = pd.concat([labels, pd.Series(predictions)], axis=1, ignore_index=True)\n",
    "final_df.columns = ['PassengerId', 'Transported']"
   ]
  },
  {
   "cell_type": "code",
   "execution_count": 29,
   "id": "467bc14a",
   "metadata": {
    "execution": {
     "iopub.execute_input": "2022-04-19T22:56:48.398061Z",
     "iopub.status.busy": "2022-04-19T22:56:48.396993Z",
     "iopub.status.idle": "2022-04-19T22:56:48.411827Z",
     "shell.execute_reply": "2022-04-19T22:56:48.411195Z",
     "shell.execute_reply.started": "2022-04-19T22:52:53.763307Z"
    },
    "papermill": {
     "duration": 0.119578,
     "end_time": "2022-04-19T22:56:48.411969",
     "exception": false,
     "start_time": "2022-04-19T22:56:48.292391",
     "status": "completed"
    },
    "tags": []
   },
   "outputs": [],
   "source": [
    "final_df.to_csv('./submission.csv', index=False)"
   ]
  }
 ],
 "metadata": {
  "kernelspec": {
   "display_name": "Python 3",
   "language": "python",
   "name": "python3"
  },
  "language_info": {
   "codemirror_mode": {
    "name": "ipython",
    "version": 3
   },
   "file_extension": ".py",
   "mimetype": "text/x-python",
   "name": "python",
   "nbconvert_exporter": "python",
   "pygments_lexer": "ipython3",
   "version": "3.7.12"
  },
  "papermill": {
   "default_parameters": {},
   "duration": 135.046751,
   "end_time": "2022-04-19T22:56:49.625950",
   "environment_variables": {},
   "exception": null,
   "input_path": "__notebook__.ipynb",
   "output_path": "__notebook__.ipynb",
   "parameters": {},
   "start_time": "2022-04-19T22:54:34.579199",
   "version": "2.3.3"
  }
 },
 "nbformat": 4,
 "nbformat_minor": 5
}
